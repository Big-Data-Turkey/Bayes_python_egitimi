{
 "cells": [
  {
   "cell_type": "markdown",
   "metadata": {},
   "source": [
    "## Programlama Nedir ?\n",
    "\n",
    "Programlama kısaca, bilgisayara ne yapması gerektiğini söylemektir. Bilgisayar tek başına anlam ifade etmez, ona ne yapması gerektiğini, nasıl davranması gerektiğini siz gösterirsiniz.  Bilgisayar diyince aklınıza sadece Dizüstü Masaüstü bilgisayarlar gelmesin. Hesap Makinesi bile bir bilgisayardır.\n",
    "\n",
    "Programlama yaparken yazdığınız sözcüklerin (kodların) bütününe de yazılım denir. Yazılım kullanıcı ile bilgisayar arasında iletişim kurmayı sağlar.\n",
    " \n",
    "## Programlama Nasıl Yapılır ?\n",
    "\n",
    "Programlama geçmişten günümüze sürekli geliştirilerek gelmiştir ve hala da gelişmektedir. Her geçen gün işlerimizi kolaylaştıran diller, kütüphaneler ortaya çıkıyor.  Programlama yapabilmek, program yazabilmek için Bazı programlama dillerine ihtiyaç duyarız.\n",
    "Programlama Dilleri\n",
    "\n",
    "Programlama dilleri, program yazarken kullandığımız söz dizimleridir. Farklı programlama dilleri vardır, geçmişten günümüze sürekli farklı programlama dilleri geliştirilmiştir.\n",
    "Yani programı, herhangi bir programlama diliyle yazabilirsiniz. Mantık olarak hepsi aynıdır, yazımlarında farklılıklar vardır o kadar. Örnek olarak: csharp, visual basic, java, c, c++, python.. programlama dillerinden sadece bazıları.. Daha çok sayıda programlama dili vardır ve hepsi ihtiyaçlara göre farklı alanlarda kullanılır. Örneğin bazıları yazarken kolaylık sağlar bazıları hızda kolaylık sağlar vs.. Tüm hepsini bilmemize gerek yok. Sadece bir tanesini bilseniz yeterli.\n"
   ]
  },
  {
   "cell_type": "markdown",
   "metadata": {},
   "source": [
    "## PYTHON NEDİR VE NELER YAPILABİLİR?\n",
    "\n",
    "Python son zamanların en popüler programlama dillerinden biridir. Python programlama dili makine öğrenimi, sistem otomasyonları, web ve API’lerini geliştirme, bot sistemleri, yapay zeka, veri bilimi ve veri işleme gibi konular için temel yapıdadır.\n",
    "\n",
    "makine öğrenimi veya veri analizi denildiğinde ilk akla gelen programlama dillerinden biri olmayı başarmış ve gün geçtikçe ününü daha da büyütmeye devam etmiştir.\n",
    "\n",
    "## Python Programlama Dilinin Avantajları\n",
    "\n",
    "Python Programlama Dilinin Kullanımı ve Öğrenimi Çok Basit.\n",
    "\n",
    "Python syntaxı (söz dizimi) hem rahat okunabilir hem de ileriyi hedefleyen bir yapıdadır. Python programlama dilinin öğrenimi, kararlı yapısı sayesinde oldukça basittir.\n",
    "\n",
    "Yazılıma yeni başlayanlara en ideal ve basit dil olarak görüldüğü için Python programlama dili önerilir. Sadede gelecek olursak, Python programlama dili yazılıma yeni başlayan herkes için hızlı ve basit bir şekilde ilerlemeyi sağlar. Diğer programlama dillerine göre söz konusu basitlik olduğunda Python diğer programlama dillerine nazaran iki adım daha öndedir.\n",
    "\n",
    "Python,  yazılımcılar arasında oldukça popüler ve oldukça yaygın bir programlama dilidir. Github projelerinin çoğunda Python yazılım dili kullanılmıştır. Stackoverflow ve Github gibi programcıların genel olarak gezdikleri programlama örnek sıralama sistemlerinde, Python dili en üst sıralarda yer almaktadır.\n",
    "\n",
    "Kullanım alanlarını anlatacak olursak, en küçük işletim sistemlerinden en büyük işletim sistemlerine kadar neredeyse bütün OS tarafından desteklenir. İnternette bulunan birçok kütüphane ve API servislerinin kesinlikle Python tabanlı bindings veya wrappers’ları bulunmaktadır. Bunun sayesinde Python, servislerle serbest bir şekilde arayüz oluşturur veya kütüphaneler doğrudan kullanılır.\n",
    "\n",
    "## Makine Öğreniminde Python’un Yeri ve Veri Bilimi\n",
    "\n",
    "Karmaşık veri analizleri günümüz IT için önemli bir konu haline gelmiştir. Python bu durumlarda en kullanışlı programlama dilidir. Python kütüphanelerinin çoğu veri bilimi ve makine öğrenimi konularında gayet kullanışlıdır. Bu alandaki kütüphanelerde bulunan yüksek kaliteli komutlar, makine öğrenimi kütüphanelerinin ve diğer algoritma kütüphanelerinin sürekli gelişmesinde büyük katkı sağlamıştır.\n"
   ]
  },
  {
   "cell_type": "markdown",
   "metadata": {},
   "source": [
    "## Çalışma Ortamının kurulması\n",
    "\n",
    "Anaconda resmi sitesine (https://www.anaconda.com/products/individual) giderek işletim sistemimize uygun olan versiyonu indiriyoruz. Kurulum esnasında bütün değerleri varsayılanda bırakarak geçebiliriz . Daha sonrasında Anaconda Navigator programını açtığımızda conda ortamında kullanabileceğimiz birkaç farklı editör karşımıza çıkıyor. Biz bu eğitim için Jupyter Notebook programını indiriyoruz. Daha sonrasında yine Anaconda Navigator üzerinden açabileceğimiz gibi terminale/komut satırına “jupyter notebook” yazarak da editörümüzü açabileceğiz. \n"
   ]
  },
  {
   "cell_type": "markdown",
   "metadata": {},
   "source": [
    " "
   ]
  },
  {
   "cell_type": "markdown",
   "metadata": {},
   "source": [
    "# Standart Veri Tipleri"
   ]
  },
  {
   "cell_type": "markdown",
   "metadata": {},
   "source": [
    "Programların çalışmasında farklı amaçlar için farklı türlerde verilere ihtiyaç duyarız. Örneğin cinsiyet durumu için true/false, isim için string yada yaş bilgisi için int türünde verir.\n",
    "\n",
    "Python birçok veri tipi içermektedir. Bunlardan bazıları:\n",
    "\n",
    "\tİnt\n",
    "    \n",
    "    Float\n",
    "    \n",
    "\tString\n",
    "    \n",
    "\tList\n",
    "    \n",
    "\tTupple\n",
    "    \n",
    "    Dictionary\n"
   ]
  },
  {
   "cell_type": "markdown",
   "metadata": {},
   "source": [
    "## Değişkenler"
   ]
  },
  {
   "cell_type": "code",
   "execution_count": 10,
   "metadata": {},
   "outputs": [],
   "source": [
    "tamSayi = 5\n",
    "ondalikli_sayi = 3.0\n",
    "metin = \"merhaba\"\n",
    "liste = [1,3.2,\"elma\",\"armut\"]\n",
    "dogru_yanlis = True\n",
    "sozluk = {\"elma\":\"apple\",\"muz\":\"banana\"}"
   ]
  },
  {
   "cell_type": "code",
   "execution_count": 7,
   "metadata": {},
   "outputs": [
    {
     "data": {
      "text/plain": [
       "int"
      ]
     },
     "execution_count": 7,
     "metadata": {},
     "output_type": "execute_result"
    }
   ],
   "source": [
    "type(tamSayı)"
   ]
  },
  {
   "cell_type": "markdown",
   "metadata": {},
   "source": [
    "## Print fonksiyonu\n"
   ]
  },
  {
   "cell_type": "code",
   "execution_count": null,
   "metadata": {},
   "outputs": [],
   "source": [
    "print(\"merhaba\")"
   ]
  },
  {
   "cell_type": "code",
   "execution_count": null,
   "metadata": {},
   "outputs": [],
   "source": [
    "\"merhaba\""
   ]
  },
  {
   "cell_type": "code",
   "execution_count": null,
   "metadata": {},
   "outputs": [],
   "source": [
    "5"
   ]
  },
  {
   "cell_type": "code",
   "execution_count": null,
   "metadata": {},
   "outputs": [],
   "source": [
    "3+5"
   ]
  },
  {
   "cell_type": "code",
   "execution_count": null,
   "metadata": {},
   "outputs": [],
   "source": [
    "9/5"
   ]
  },
  {
   "cell_type": "code",
   "execution_count": null,
   "metadata": {},
   "outputs": [],
   "source": [
    "11//3"
   ]
  },
  {
   "cell_type": "code",
   "execution_count": null,
   "metadata": {},
   "outputs": [],
   "source": [
    "11%3"
   ]
  },
  {
   "cell_type": "code",
   "execution_count": null,
   "metadata": {},
   "outputs": [],
   "source": [
    "2**5"
   ]
  },
  {
   "cell_type": "code",
   "execution_count": null,
   "metadata": {},
   "outputs": [],
   "source": [
    "-5"
   ]
  },
  {
   "cell_type": "code",
   "execution_count": null,
   "metadata": {},
   "outputs": [],
   "source": [
    "a = 5\n",
    "b = 2\n",
    "a + b"
   ]
  },
  {
   "cell_type": "code",
   "execution_count": null,
   "metadata": {},
   "outputs": [],
   "source": [
    "c = \"merhaba\"\n",
    "c = \"ali\"\n",
    "c + d"
   ]
  },
  {
   "cell_type": "code",
   "execution_count": null,
   "metadata": {},
   "outputs": [],
   "source": [
    "c + a"
   ]
  },
  {
   "cell_type": "code",
   "execution_count": null,
   "metadata": {},
   "outputs": [],
   "source": [
    "e = a * b\n",
    "e"
   ]
  },
  {
   "cell_type": "code",
   "execution_count": 8,
   "metadata": {},
   "outputs": [],
   "source": [
    "f = e * a + b\n",
    "g = e * (a + b)\n",
    "f, g"
   ]
  },
  {
   "cell_type": "markdown",
   "metadata": {},
   "source": [
    "### Python Değişken İsimlendirme Kuralları"
   ]
  },
  {
   "cell_type": "markdown",
   "metadata": {},
   "source": [
    "Değişken isimlerini açık ve anlaşılır yazmak işinize gelir.büyük bir kod yazarken “a” değişkeni yerine “sayi” adlı değişken daha açıklayıcı ve sade olur."
   ]
  },
  {
   "cell_type": "markdown",
   "metadata": {},
   "source": [
    "Değişken isimleri hem harf hem sayı içerebilir. Fakat mutlaka harfle başlamalıdır"
   ]
  },
  {
   "cell_type": "code",
   "execution_count": null,
   "metadata": {},
   "outputs": [],
   "source": [
    "17fatih = \"algoritma\""
   ]
  },
  {
   "cell_type": "code",
   "execution_count": null,
   "metadata": {},
   "outputs": [],
   "source": [
    "fatih17 = \"algoritma\""
   ]
  },
  {
   "cell_type": "markdown",
   "metadata": {},
   "source": [
    "Değişkenlerin içinde alt çizgi karakteri (“_”) kullanabilirsiniz."
   ]
  },
  {
   "cell_type": "code",
   "execution_count": null,
   "metadata": {},
   "outputs": [],
   "source": [
    "virgullu_sayi = 0,3256"
   ]
  },
  {
   "cell_type": "markdown",
   "metadata": {},
   "source": [
    "Değişken isimleri büyük-küçük harf duyarlıdır.\n",
    "\"Sayi\" degişkeni ile \"sayi\" degişkeni aynı değildir"
   ]
  },
  {
   "cell_type": "code",
   "execution_count": 4,
   "metadata": {},
   "outputs": [],
   "source": [
    "a=5\n",
    "A=4\n",
    "a,A"
   ]
  },
  {
   "cell_type": "markdown",
   "metadata": {},
   "source": [
    "'”`;,<>/?|\\/()!@#$%^&*~-+  gibi karakterler değişken isimlerinde bulunamazlar"
   ]
  },
  {
   "cell_type": "code",
   "execution_count": 6,
   "metadata": {},
   "outputs": [],
   "source": [
    "s@yı = 5"
   ]
  },
  {
   "cell_type": "code",
   "execution_count": null,
   "metadata": {},
   "outputs": [],
   "source": [
    "kişi.com = \"ahmet\""
   ]
  },
  {
   "cell_type": "markdown",
   "metadata": {},
   "source": [
    "Değişkenlere isim verirken anahtar kelimeler kullanamazsınız"
   ]
  },
  {
   "cell_type": "code",
   "execution_count": null,
   "metadata": {},
   "outputs": [],
   "source": [
    "and = \"and adında degişken\""
   ]
  },
  {
   "cell_type": "markdown",
   "metadata": {},
   "source": [
    "Python'da kullanılan tüm anahtar kelimeler:"
   ]
  },
  {
   "cell_type": "code",
   "execution_count": 11,
   "metadata": {},
   "outputs": [
    {
     "name": "stdout",
     "output_type": "stream",
     "text": [
      "['False', 'None', 'True', 'and', 'as', 'assert', 'async', 'await', 'break', 'class', 'continue', 'def', 'del', 'elif', 'else', 'except', 'finally', 'for', 'from', 'global', 'if', 'import', 'in', 'is', 'lambda', 'nonlocal', 'not', 'or', 'pass', 'raise', 'return', 'try', 'while', 'with', 'yield']\n"
     ]
    }
   ],
   "source": [
    "import keyword\n",
    "print(keyword.kwlist)"
   ]
  },
  {
   "cell_type": "markdown",
   "metadata": {},
   "source": [
    "## OPERATORLER "
   ]
  },
  {
   "cell_type": "code",
   "execution_count": null,
   "metadata": {},
   "outputs": [],
   "source": [
    "# Atama / işlemli atam operatoru (=)\n",
    "sayi=5\n",
    "\n",
    "sayi = sayi+2\n",
    "\n",
    "sayi+=2 # sayi = sayi+2\n",
    "sayi-=2 # sayi = sayi-2\n",
    "sayi*=2 # sayi = sayi*2\n",
    "print(sayi)\n",
    "\n",
    "sayi/=2 # sayi = sayi/2\n",
    "print(sayi)\n",
    "\n",
    "sayi=10\n",
    "sayi/=3\n",
    "print(sayi)\n",
    "\n",
    "# bölme işleminde ondalık kısmı yok edip sadece tam sayıyı alma\n",
    "sayi=10\n",
    "sayi//=3\n",
    "print(sayi)\n"
   ]
  },
  {
   "cell_type": "markdown",
   "metadata": {},
   "source": [
    "## Karşılaştırma Operatörleri"
   ]
  },
  {
   "cell_type": "markdown",
   "metadata": {},
   "source": [
    "== ,> ,<=  karşılaştırma operatörlerinden bazılarıdır"
   ]
  },
  {
   "cell_type": "code",
   "execution_count": null,
   "metadata": {},
   "outputs": [],
   "source": [
    "1==1"
   ]
  },
  {
   "cell_type": "code",
   "execution_count": null,
   "metadata": {},
   "outputs": [],
   "source": [
    "sayi1=8\n",
    "sayi2=4\n",
    "\n",
    "bool1 = sayi1==sayi2 # eşitse True değilse False\n",
    "bool2 = sayi1!=sayi2 # eşitse False değilse True\n",
    "bool3 = sayi1>=sayi2 # sayi1 sayi2 den büyük veya eşitse True\n",
    "bool4 = sayi1<=sayi2 # sayi1 sayi2 den küçük veya eşitse True\n",
    "print(bool1,bool2,bool3,bool4)"
   ]
  },
  {
   "cell_type": "code",
   "execution_count": null,
   "metadata": {},
   "outputs": [],
   "source": [
    "isim=\"Ali\"\n",
    "isim1=\"Veli\"\n",
    "isim2=\"ali\"\n",
    "bool5= isim==isim1\n",
    "bool6= isim==isim2\n",
    "bool5,bool6"
   ]
  },
  {
   "cell_type": "code",
   "execution_count": null,
   "metadata": {},
   "outputs": [],
   "source": [
    "sayi3=\"5\"\n",
    "sayi4=5\n",
    "bool7= sayi3==sayi4\n",
    "bool7"
   ]
  },
  {
   "cell_type": "markdown",
   "metadata": {},
   "source": [
    "# Mantıksal Operatörler\n",
    "### AND\n",
    "\n",
    "00=0\n",
    "\n",
    "01=0\n",
    "\n",
    "10=0\n",
    "\n",
    "11=1\n",
    "\n",
    "\n",
    "### OR\n",
    "\n",
    "00=0\n",
    "\n",
    "01=1\n",
    "\n",
    "10=1\n",
    "\n",
    "11=1\n"
   ]
  },
  {
   "cell_type": "code",
   "execution_count": null,
   "metadata": {},
   "outputs": [],
   "source": [
    "1 and 1"
   ]
  },
  {
   "cell_type": "code",
   "execution_count": null,
   "metadata": {},
   "outputs": [],
   "source": [
    "1 and 0"
   ]
  },
  {
   "cell_type": "code",
   "execution_count": null,
   "metadata": {},
   "outputs": [],
   "source": [
    "1 or 0"
   ]
  },
  {
   "cell_type": "code",
   "execution_count": null,
   "metadata": {},
   "outputs": [],
   "source": [
    "a=5\n",
    "a>0 and a<10\n"
   ]
  },
  {
   "cell_type": "code",
   "execution_count": null,
   "metadata": {},
   "outputs": [],
   "source": [
    "a=5\n",
    "a>0 and a%2==0"
   ]
  },
  {
   "cell_type": "markdown",
   "metadata": {},
   "source": [
    "## VERİ GİRİŞİ "
   ]
  },
  {
   "cell_type": "markdown",
   "metadata": {},
   "source": [
    "Pythonda veri girişi için birçok yöntem vardır. Bunlar ses kamera verisi olacağı gibi terminale yazacağımız bir yazı da olabilir. Terminalde veri almak için de input fonksiyonunu kullanırız"
   ]
  },
  {
   "cell_type": "code",
   "execution_count": 17,
   "metadata": {},
   "outputs": [],
   "source": [
    "isim = input(\"İsminiz nedir? \")\n",
    "print(\"merhaba\" + isim)"
   ]
  },
  {
   "cell_type": "code",
   "execution_count": null,
   "metadata": {},
   "outputs": [],
   "source": [
    "sayi = input(\"sayı giriniz? \")\n",
    "type(sayi)"
   ]
  },
  {
   "cell_type": "code",
   "execution_count": null,
   "metadata": {},
   "outputs": [],
   "source": []
  },
  {
   "cell_type": "markdown",
   "metadata": {},
   "source": [
    "## TİP-DÖNÜŞÜMLERi"
   ]
  },
  {
   "cell_type": "markdown",
   "metadata": {},
   "source": [
    "Bazen veri tiplerini birbirlerine çevirmemiz gerekir. En basit örneğiyle input ile aldığımız veri string tipindedir onu tamsayı olarak toplama çıkarma gibi işlemlere tabi tutabilmek için int tipine çevirmemiz gerekir"
   ]
  },
  {
   "cell_type": "code",
   "execution_count": null,
   "metadata": {},
   "outputs": [],
   "source": [
    "type( int(sayi) )"
   ]
  },
  {
   "cell_type": "code",
   "execution_count": null,
   "metadata": {},
   "outputs": [],
   "source": [
    "sayi1 = input(\"1. sayıyı giriniz? \")\n",
    "sayi2 = input(\"2. sayıyı giriniz? \")\n",
    "sayi1 + sayi2"
   ]
  },
  {
   "cell_type": "code",
   "execution_count": null,
   "metadata": {},
   "outputs": [],
   "source": [
    "sayi1 = int( input(\"1. sayıyı giriniz? \") )\n",
    "sayi2 = input(\"2. sayıyı giriniz? \")\n",
    "sayi1 + int(sayi2)"
   ]
  },
  {
   "cell_type": "markdown",
   "metadata": {},
   "source": [
    "## Diziler"
   ]
  },
  {
   "cell_type": "markdown",
   "metadata": {},
   "source": [
    "Python array değişken türünün en önemli özelliklerinden birisi dizi içinde farklı değişken türlerini bir arada tutabilmenizdir. Böylece oldukça kolay bir şekilde farklı türleri aynı dizide depolayabilirsiniz. Öyleyse birçok farklı yöntemle liste/dizi nasıl oluşturulur hemen onu görelim."
   ]
  },
  {
   "cell_type": "code",
   "execution_count": null,
   "metadata": {},
   "outputs": [],
   "source": [
    "# boş liste değişkeni \n",
    "liste =  []\n",
    "\n",
    "# dizi/liste(array) oluşturmanın farklı bir tarzı\n",
    "liste =  list()\n",
    "\n",
    "# sadece int değerler tutan dizi/liste\n",
    "liste =  [1,2,3,4,5,6,7]\n",
    "\n",
    "# string tutan array\n",
    "liste =  list(\"İstanbul\",\"Ankara\",\"İzmir\")\n",
    "\n",
    "# farklı değişken türleri tutan liste isimli array değişkeni\n",
    "liste =  [10,11,12,\"Python\",3.14,51.035]\n",
    "\n",
    "# string parçalayarak dizi/liste oluşturma\n",
    "isim = \"İstanbul\"\n",
    "liste =  list(isim)\n",
    "\n"
   ]
  },
  {
   "cell_type": "code",
   "execution_count": null,
   "metadata": {},
   "outputs": [],
   "source": [
    "# array indexleme /basit dizi\n",
    "liste = [\"Elma\",\"Armut\",\"Kivi\",\"Muz\"]\n",
    "liste[2]"
   ]
  },
  {
   "cell_type": "code",
   "execution_count": null,
   "metadata": {},
   "outputs": [],
   "source": [
    "# array indexleme /iç içe dizi\n",
    "liste1 = [1,2,3]\n",
    "liste2 = [4,5,6]\n",
    "liste3 = [7,8,9]\n",
    "yeniliste = [liste1,liste2,liste3]"
   ]
  },
  {
   "cell_type": "code",
   "execution_count": null,
   "metadata": {},
   "outputs": [],
   "source": [
    "yeniliste[1,2]"
   ]
  },
  {
   "cell_type": "code",
   "execution_count": null,
   "metadata": {},
   "outputs": [],
   "source": [
    "# Listenin sonuncu elemanını gösterme\n",
    "liste = [3,4,5,6,7,8,9]\n",
    "liste[len(liste)-1]"
   ]
  },
  {
   "cell_type": "code",
   "execution_count": null,
   "metadata": {},
   "outputs": [],
   "source": [
    "# Baştan 4. indekse kadar (dahil değil)\n",
    "liste = [3,4,5,6,7,8,9]\n",
    "liste[:4]"
   ]
  },
  {
   "cell_type": "code",
   "execution_count": null,
   "metadata": {},
   "outputs": [],
   "source": [
    "# 2. ve 4. arasını alma\n",
    "liste = [3,4,5,6,7,8,9]\n",
    "liste[2:4]"
   ]
  },
  {
   "cell_type": "code",
   "execution_count": null,
   "metadata": {},
   "outputs": [],
   "source": [
    "# 3. indexten sonuna kadar alma\n",
    "liste = [3,4,5,6,7,8,9]\n",
    "liste[3:]"
   ]
  },
  {
   "cell_type": "code",
   "execution_count": null,
   "metadata": {},
   "outputs": [],
   "source": [
    "# Listeleri birleştirme\n",
    "liste1 =  [1,2,3,4,5]\n",
    "liste2 =  [6,7,8,9,10]\n",
    "liste1 + liste2"
   ]
  },
  {
   "cell_type": "code",
   "execution_count": null,
   "metadata": {},
   "outputs": [],
   "source": [
    "# Diziye eleman dahil etme\n",
    "liste =  [\"Manisa\",\"Düzce\",\"Bolu\"]\n",
    "liste + [\"Çankırı\"]"
   ]
  },
  {
   "cell_type": "code",
   "execution_count": null,
   "metadata": {},
   "outputs": [],
   "source": [
    "# Listedeki elemanı değiştirme /Yöntem1\n",
    "liste =  [1,2,3,4,5]\n",
    "liste[2]=\"Merhaba\""
   ]
  },
  {
   "cell_type": "code",
   "execution_count": null,
   "metadata": {},
   "outputs": [],
   "source": [
    "liste =  [1,2,3,4,5]\n",
    "liste[:2]=[10,20]"
   ]
  },
  {
   "cell_type": "code",
   "execution_count": null,
   "metadata": {},
   "outputs": [],
   "source": [
    "# Dizi çarpma işlemi ile tekrarlama\n",
    "liste =  [1,2,3,4,5]\n",
    "liste = liste*2"
   ]
  },
  {
   "cell_type": "code",
   "execution_count": 25,
   "metadata": {},
   "outputs": [],
   "source": [
    "# Liste eleman sayısı\n",
    "liste = [3,4,5,6,6,7,8,9,0,0,0]\n",
    "len(liste)"
   ]
  },
  {
   "cell_type": "code",
   "execution_count": null,
   "metadata": {},
   "outputs": [],
   "source": [
    "liste =  [1,2,3,4,5]\n",
    "liste.append(6)\n",
    "liste"
   ]
  },
  {
   "cell_type": "code",
   "execution_count": null,
   "metadata": {},
   "outputs": [],
   "source": [
    "# Dizi sonundaki elemanı çıkarma\n",
    "liste =  [1,2,3,4,5]\n",
    "liste.pop()\n",
    "liste"
   ]
  },
  {
   "cell_type": "code",
   "execution_count": null,
   "metadata": {},
   "outputs": [],
   "source": [
    "# Dizide istediğim indexteki elemanı çıkarma /çıkan elemanı ekrana basar\n",
    "liste =  [\"Ali\",\"Yunus\",\"Deniz\",\"Asım\"]\n",
    "liste.pop(2)"
   ]
  },
  {
   "cell_type": "code",
   "execution_count": null,
   "metadata": {},
   "outputs": [],
   "source": [
    "# Dizi elemanlarını küçükten büyüğe doğru sıralar\n",
    "liste =  [43,35,78,13,5,86,90]\n",
    "liste.sort()"
   ]
  },
  {
   "cell_type": "code",
   "execution_count": null,
   "metadata": {},
   "outputs": [],
   "source": [
    "# Dizi elemanlarını büyüktenten küçüğe doğru sıralar\n",
    "liste =  [43,35,78,13,5,86,90]\n",
    "liste.sort(reverse=True)"
   ]
  },
  {
   "cell_type": "markdown",
   "metadata": {},
   "source": [
    "## Koşullu ifadeler"
   ]
  },
  {
   "cell_type": "markdown",
   "metadata": {},
   "source": [
    "Pythonda koşullu durumlar ile bir koşuldan elde ettiğimiz True ya da False değere göre programın farklı yönlerden ilerlemesini sağlayabiliriz.\n",
    "\n",
    "Aşağıda bazı koşul ifadeleri verilmiştir. Bu koşullar bize True ya da False değer üretirler.\n",
    "\n",
    "Eşit mi : a == b,\n",
    "\n",
    "Eşit değil mi: a != b\n",
    "\n",
    "Küçük mü : a < b\n",
    "\n",
    "Küçük ya da eşit mi: a <= b\n",
    "\n",
    "Büyük mü: a > b\n",
    "\n",
    "Büyük ya da eşit mi: a >= b"
   ]
  },
  {
   "cell_type": "code",
   "execution_count": null,
   "metadata": {},
   "outputs": [],
   "source": [
    "a = 10\n",
    "b = 20\n",
    "if b > a:\n",
    "  print(\"b, a'dan büyüktür\")"
   ]
  },
  {
   "cell_type": "code",
   "execution_count": null,
   "metadata": {},
   "outputs": [],
   "source": [
    "a = 20\n",
    "b = 10\n",
    "if b > a:\n",
    "  print(\"b, a'dan büyüktür\")\n",
    "if a < b:\n",
    "  print(\"a, b'den büyüktür\")\n"
   ]
  },
  {
   "cell_type": "code",
   "execution_count": null,
   "metadata": {},
   "outputs": [],
   "source": [
    "a = 10\n",
    "b = 10\n",
    "if b > a:\n",
    "  print(\"b, a'dan büyüktür\")\n",
    "elif a == b:\n",
    "  print(\"a ile b eşittir\")\n"
   ]
  },
  {
   "cell_type": "code",
   "execution_count": null,
   "metadata": {},
   "outputs": [],
   "source": [
    "a = 15\n",
    "b = 10\n",
    "if b > a:\n",
    "  print(\"b, a'dan büyüktür\")\n",
    "elif a == b:\n",
    "  print(\"a ile b eşittir\")\n",
    "elif a > b:\n",
    "  print(\"a, b'den büyüktür\")"
   ]
  },
  {
   "cell_type": "code",
   "execution_count": null,
   "metadata": {},
   "outputs": [],
   "source": [
    "a = 15\n",
    "b = 10\n",
    "if b > a:\n",
    "  print(\"b, a'dan büyüktür\")\n",
    "elif a == b:\n",
    "  print(\"a ile b eşittir\")\n",
    "else:\n",
    "  print(\"a, b'den büyüktür\")\n"
   ]
  },
  {
   "cell_type": "code",
   "execution_count": null,
   "metadata": {},
   "outputs": [],
   "source": [
    "num = int(input('sayı: '))\n",
    "\n",
    "if num > 0:\n",
    "    print('sayı pozitif')\n",
    "elif num < 0:\n",
    "    print('sayı negatif')\n",
    "else:\n",
    "    print('sayı sıfır')\n"
   ]
  },
  {
   "cell_type": "code",
   "execution_count": null,
   "metadata": {},
   "outputs": [],
   "source": [
    "# iç içe if blokları\n",
    "username = 'bilal'\n",
    "password = '1234'\n",
    "\n",
    "if (username == 'bilal'):\n",
    "    if (password == '12345'):\n",
    "        print('Hoş geldiniz')\n",
    "    else:\n",
    "        print('parola yanlış')        \n",
    "else:\n",
    "    print('username yanlış')\n"
   ]
  },
  {
   "cell_type": "code",
   "execution_count": null,
   "metadata": {},
   "outputs": [],
   "source": [
    "if (username == 'bilal') and (password == '12345'):\n",
    "        print('Hoş geldiniz')      \n",
    "else:\n",
    "    print('username ya da parola yanlış')"
   ]
  },
  {
   "cell_type": "markdown",
   "metadata": {},
   "source": [
    "## Döngüler"
   ]
  },
  {
   "cell_type": "code",
   "execution_count": 27,
   "metadata": {},
   "outputs": [],
   "source": [
    "sayi=90\n",
    "while(sayi<101):\n",
    "    print(sayi)\n",
    "    sayi+=1 "
   ]
  },
  {
   "cell_type": "code",
   "execution_count": null,
   "metadata": {},
   "outputs": [],
   "source": [
    "while 1:\n",
    "    print(\"merhaba\")"
   ]
  },
  {
   "cell_type": "code",
   "execution_count": null,
   "metadata": {},
   "outputs": [],
   "source": [
    "meyveler = [\"apple\", \"banana\", \"cherry\"]\n",
    "for meyve in meyveler:\n",
    "    print(meyve)"
   ]
  },
  {
   "cell_type": "code",
   "execution_count": null,
   "metadata": {},
   "outputs": [],
   "source": [
    "#  break\n",
    "fruits = [\"apple\", \"banana\", \"cherry\"]\n",
    "for x in fruits:\n",
    "  if x == \"banana\":\n",
    "    break\n",
    "  print(x)"
   ]
  },
  {
   "cell_type": "code",
   "execution_count": null,
   "metadata": {},
   "outputs": [],
   "source": [
    "# continue\n",
    "fruits = [\"apple\", \"banana\", \"cherry\"]\n",
    "for x in fruits:\n",
    "  if x == \"banana\":\n",
    "    continue\n",
    "  print(x)\n"
   ]
  },
  {
   "cell_type": "markdown",
   "metadata": {},
   "source": [
    "SORU : 1-100 arasındaki sayıları toplayan program. Aşağıdaki durumlarda sayıyı toplama eklemeyecek\n",
    "\n",
    "Sayı 7'nin katı ise toplama eklenmesin\n",
    "\n",
    "Sayı 11'in katı ise iki defa eklesin\n",
    "\n",
    "eğer her iki koşuluda karşılıyorsa döngü bitsin"
   ]
  },
  {
   "cell_type": "code",
   "execution_count": null,
   "metadata": {},
   "outputs": [],
   "source": []
  },
  {
   "cell_type": "code",
   "execution_count": null,
   "metadata": {},
   "outputs": [],
   "source": [
    "sayi = 1\n",
    "toplam=0\n",
    "while sayi<101:\n",
    "  if sayi % 7 ==0 and sayi % 11 == 0:\n",
    "    break\n",
    "  elif sayi % 7 == 0:\n",
    "    sayi+=1\n",
    "  elif sayi % 11 == 0:\n",
    "    toplam += sayi*2\n",
    "    sayi+=1\n",
    "  else:\n",
    "    toplam += sayi\n",
    "    sayi+=1\n",
    "  \n",
    "print(toplam)"
   ]
  },
  {
   "cell_type": "markdown",
   "metadata": {},
   "source": [
    "## Fonksiyonlar"
   ]
  },
  {
   "cell_type": "markdown",
   "metadata": {},
   "source": [
    "Yazdığımız bir python uygulamasındaki belli bir kod parçasını bir kaç yerde kullanma ihtiyacı duyduğumuzda fonksiyon oluşturmak işlerimizi kolaylaştırır. Böyle durumlarda sürekli kullanacak olduğumuz kod satırlarını fonksiyonlar içine alıp istediğimiz zaman çağırıp çalıştırabiliriz.\n",
    "\n",
    "Örneğin basit bir matematiksel işlem yapacağız ve bir çok yerde bu matematiksel işlemi tekrarlayacağız bu durumda bir fonksiyon oluşturup defalarca kullanabiliriz.\n",
    "\n",
    "Ayrıca işin daha güzel yani Python da hazır bir çok kütüphane var ve bu kütüphaneler içinde önceden oluşturulmuş bir sürü fonksiyon mevcut. Çoğu zaman fonksiyonun içeriğini yazmak yerine hazır olanını kullanabileceğiz. Örneğin gönderdiğimiz bir sayının karakökünü alan sqrt() fonksiyonu.\n"
   ]
  },
  {
   "cell_type": "code",
   "execution_count": null,
   "metadata": {},
   "outputs": [],
   "source": [
    "def hello():\n",
    "    print(\"Merhaba\")"
   ]
  },
  {
   "cell_type": "code",
   "execution_count": null,
   "metadata": {},
   "outputs": [],
   "source": [
    "hello()"
   ]
  },
  {
   "cell_type": "code",
   "execution_count": null,
   "metadata": {},
   "outputs": [],
   "source": [
    "def hello(name):\n",
    "    print(\"Merhaba \"+ name)\n",
    "\n",
    "hello(\"Bilal\")\n",
    "hello(\"Yusuf\")\n",
    "hello(\"Ali\")"
   ]
  },
  {
   "cell_type": "code",
   "execution_count": null,
   "metadata": {},
   "outputs": [],
   "source": [
    "def hello(name):\n",
    "    return \"Merhaba \"+ name\n",
    "\n",
    "print(hello(\"Bilal\")) "
   ]
  },
  {
   "cell_type": "code",
   "execution_count": null,
   "metadata": {},
   "outputs": [],
   "source": [
    "def toplama(a,b):\n",
    "    return a+b\n",
    "\n",
    "sonuc = toplama(10,20)\n",
    "print(sonuc) # 30"
   ]
  },
  {
   "cell_type": "code",
   "execution_count": null,
   "metadata": {},
   "outputs": [],
   "source": [
    "def yazdir(kelime, adet):\n",
    "    print(kelime * adet)\n",
    "\n",
    "yazdir('Merhaba\\n', 10)"
   ]
  },
  {
   "cell_type": "markdown",
   "metadata": {},
   "source": [
    "Soru: Gönderilen 2 sayı arasındaki tüm asal sayıları bulan python fonksiyon uygulamasını yapınız."
   ]
  },
  {
   "cell_type": "code",
   "execution_count": null,
   "metadata": {},
   "outputs": [],
   "source": []
  },
  {
   "cell_type": "markdown",
   "metadata": {},
   "source": [
    "Bazen fonksiyonlara gönderdiğimiz parametreler yerine varsayılan değerleri kullanmak isteyebiliriz."
   ]
  },
  {
   "cell_type": "code",
   "execution_count": null,
   "metadata": {},
   "outputs": [],
   "source": [
    "# varsayılan/default değer atama\n",
    "def my_function(country = \"Turkey\"):\n",
    "  print(\"I am from \" + country)\n",
    "\n",
    "my_function(\"Sweden\")\n",
    "my_function(\"India\")\n",
    "my_function()\n",
    "my_function(\"Brazil\")\n"
   ]
  },
  {
   "cell_type": "markdown",
   "metadata": {},
   "source": [
    "Kendisine gönderilen değişken sayıdaki sayıları toplayan bir fonksiyon yazmak istediğimizde *params anahtar kelimesini kullanabiliriz. *params anahtar kelimesi birden fazla parametrenin yerini tutar."
   ]
  },
  {
   "cell_type": "code",
   "execution_count": null,
   "metadata": {},
   "outputs": [],
   "source": [
    "def toplama(a,b):\n",
    "    return a+b\n",
    "\n",
    "def toplama(a,b,c):\n",
    "    return a+b+c\n",
    "..."
   ]
  },
  {
   "cell_type": "code",
   "execution_count": null,
   "metadata": {},
   "outputs": [],
   "source": [
    "def toplama(*params):   \n",
    "    print(type(params))  # <class 'tuple'>\n",
    "    sum = 0\n",
    "    for n in params:\n",
    "        sum = sum + n\n",
    "    return sum\n"
   ]
  },
  {
   "cell_type": "code",
   "execution_count": null,
   "metadata": {},
   "outputs": [],
   "source": [
    "print(toplama(10, 20, 50))\n",
    "print(toplama(10, 20, 30))\n",
    "print(toplama(10, 20, 30, 50, 60, 10, 20))"
   ]
  },
  {
   "cell_type": "markdown",
   "metadata": {},
   "source": [
    "Eğer ki **args şeklinde parametre belirtirsek bu durumda key-value şeklinde istediğimiz sayıda bilgiyi fonksiyona gönderebiliriz."
   ]
  },
  {
   "cell_type": "code",
   "execution_count": null,
   "metadata": {},
   "outputs": [],
   "source": [
    "def displayUser(**args):\n",
    "    print(type(args))  # <class 'dict'>\n",
    "    for key, value in args.items():\n",
    "        print('{} is {}'.format(key,value))\n",
    "\n",
    "displayUser(name= 'Çınar', age = 2, city = 'istanbul')\n",
    "displayUser(name= 'Ada', age = 12, city = 'kocaeli', phone = '123132')\n",
    "displayUser(name= 'Yiğit', age = 14, city = 'ankara', phone = '123132', email= 'yigit@gmail.com')\n"
   ]
  },
  {
   "cell_type": "code",
   "execution_count": null,
   "metadata": {},
   "outputs": [],
   "source": [
    "def myFunc(a, b, c, *args, **kwargs):\n",
    "    print(a)\n",
    "    print(b)\n",
    "    print(c)\n",
    "    print(args)\n",
    "    print(kwargs)\n",
    "\n",
    "myFunc(10, 20, 30, 40, 50, 60, 70, key1 = 'value 1', key2 = 'value 2')"
   ]
  },
  {
   "cell_type": "code",
   "execution_count": 2,
   "metadata": {},
   "outputs": [],
   "source": [
    "# scope\n",
    "a=4\n",
    "def func():\n",
    "    a=7\n",
    "    \n",
    "print(a)\n",
    "func()\n",
    "print(a)"
   ]
  },
  {
   "cell_type": "markdown",
   "metadata": {},
   "source": [
    "Fonksiyonun okunabilirliğini arttırmak ve alınacak bazı hatalardan kaçınmak adına fonksiyonun alacağı ve döneceği veri tipini belirmek önemlidir. Veri tipini parametreden hemen sonra “:” koyup tipini yazarak belirtiriz. "
   ]
  },
  {
   "cell_type": "code",
   "execution_count": null,
   "metadata": {},
   "outputs": [],
   "source": [
    "def topla(a:int,b:int) -> int:\n",
    "    return a+b"
   ]
  },
  {
   "cell_type": "markdown",
   "metadata": {},
   "source": [
    "Bu örnekte de gördüğümüz gibi dışardan gelen parametrenin int veri tipinde olacağını ve fonksiyonun int veri tipinde bir değer döneceğini belirttik. Bu sayede yanlışlıkla yanlış bir veri tipi göndererek çalışma anında alınan hataların önüne geçmiş olduk. Aynı zamanda büyük bir projede kullanılan fonksiyonların hangi değerde veri alacağını yada döneceğini görmek için bulunduğu sayfaya gitme ihtiyacımız da kalmadı"
   ]
  },
  {
   "cell_type": "markdown",
   "metadata": {},
   "source": [
    "## Sınıflar"
   ]
  },
  {
   "cell_type": "markdown",
   "metadata": {},
   "source": [
    "Nesne tabanlı programlama yaklaşımı, özellikle birtakım ortak niteliklere ve davranış şekillerine sahip gruplar tanımlamak gerektiğinde son derece kullanışlıdır. Mesela şöyle bir örnek düşünün: Diyelim ki çalıştığınız işyerinde, işe alınan kişilerin kayıtlarını tutan bir veritabanınız var. Bir kişi işe alındığında, o kişiye dair belli birtakım bilgileri bu veritabanına işliyorsunuz. Mesela işe alınan kişinin adı, soyadı, unvanı, maaşı ve buna benzer başka bilgiler…"
   ]
  },
  {
   "cell_type": "code",
   "execution_count": null,
   "metadata": {},
   "outputs": [],
   "source": [
    "class Çalışan:\n",
    "    pass\n"
   ]
  },
  {
   "cell_type": "markdown",
   "metadata": {},
   "source": [
    "Yukarıdaki, boş bir sınıf tanımıdır. Hatırlarsanız fonksiyonları tanımlamak için def adlı bir ifadeden yararlanıyorduk. İşte sınıfları tanımlamak için de class adlı bir ifadeden yararlanıyoruz. Bu ifadenin ardından gelen Çalışan kelimesi ise bu sınıfın adıdır.\n",
    "Eğer arzu ederseniz, yukarıdaki sınıfı şu şekilde de tanımlayabilirsiniz:\n"
   ]
  },
  {
   "cell_type": "code",
   "execution_count": null,
   "metadata": {},
   "outputs": [],
   "source": [
    "class Çalışan():\n",
    "    pass"
   ]
  },
  {
   "cell_type": "code",
   "execution_count": 2,
   "metadata": {},
   "outputs": [],
   "source": [
    "class Çalışan():\n",
    "    kabiliyetler = []\n",
    "    unvanı = 'işçi'\n",
    "\n",
    "    \n",
    "print(Çalışan.kabiliyetler)\n",
    "print(Çalışan.unvanı)"
   ]
  },
  {
   "cell_type": "code",
   "execution_count": 10,
   "metadata": {},
   "outputs": [],
   "source": [
    "class Çalışan():\n",
    "    kabiliyetler = []\n",
    "    unvanı = 'işçi'\n",
    "    \n",
    "    def KabiliyetEkle(self,kabiliyet:str):\n",
    "        self.kabiliyetler.append(kabiliyet)\n",
    "\n",
    "çalışan = Çalışan()\n",
    "\n",
    "print(çalışan.kabiliyetler)\n",
    "çalışan.KabiliyetEkle(\"ingilizce\")\n",
    "print(çalışan.kabiliyetler)"
   ]
  },
  {
   "cell_type": "code",
   "execution_count": null,
   "metadata": {},
   "outputs": [],
   "source": [
    "class Çalışan():\n",
    "    kabiliyetler = []\n",
    "    unvanı = 'işçi'\n",
    "    \n",
    "    def KabiliyetEkle(self,kabiliyet:str):\n",
    "        self.kabiliyetler.append(kabiliyet)\n",
    "\n",
    "çalışan1 = Çalışan()\n",
    "çalışan2 = Çalışan()\n",
    "\n",
    "print(çalışan1.kabiliyetler)\n",
    "\n",
    "çalışan1.KabiliyetEkle(\"ingilizce\")\n",
    "\n",
    "print(çalışan1.kabiliyetler)\n",
    "print(çalışan2.kabiliyetler)"
   ]
  },
  {
   "cell_type": "code",
   "execution_count": 12,
   "metadata": {},
   "outputs": [],
   "source": [
    "class Çalışan():\n",
    "    kabiliyetler = []\n",
    "    unvanı = 'işçi'\n",
    "    \n",
    "    def KabiliyetEkle(cls,kabiliyet:str):\n",
    "        cls.kabiliyetler.append(kabiliyet)\n",
    "\n",
    "çalışan = Çalışan()\n",
    "\n",
    "print(çalışan.kabiliyetler)\n",
    "çalışan.KabiliyetEkle(\"ingilizce\")\n",
    "print(çalışan.kabiliyetler)"
   ]
  },
  {
   "cell_type": "code",
   "execution_count": 14,
   "metadata": {},
   "outputs": [],
   "source": [
    "class Çalışan():\n",
    "    kabiliyetler = []\n",
    "    unvanı = 'işçi'\n",
    "    \n",
    "    def __init__(self):\n",
    "        print(\"nesne oluşturuldu\")\n",
    "\n",
    "çalışan1 = Çalışan()\n",
    "çalışan2 = Çalışan()"
   ]
  },
  {
   "cell_type": "code",
   "execution_count": null,
   "metadata": {},
   "outputs": [],
   "source": [
    "# öğrenci otomasyonu\n",
    "..."
   ]
  }
 ],
 "metadata": {
  "kernelspec": {
   "display_name": "Python 3",
   "language": "python",
   "name": "python3"
  },
  "language_info": {
   "codemirror_mode": {
    "name": "ipython",
    "version": 3
   },
   "file_extension": ".py",
   "mimetype": "text/x-python",
   "name": "python",
   "nbconvert_exporter": "python",
   "pygments_lexer": "ipython3",
   "version": "3.8.3"
  }
 },
 "nbformat": 4,
 "nbformat_minor": 4
}
