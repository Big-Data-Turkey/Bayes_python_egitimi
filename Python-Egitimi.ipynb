{
 "cells": [
  {
   "cell_type": "markdown",
   "metadata": {},
   "source": [
    "## Programlama Nedir ?\n",
    "\n",
    "Programlama kısaca, bilgisayara ne yapması gerektiğini söylemektir. Bilgisayar tek başına anlam ifade etmez, ona ne yapması gerektiğini, nasıl davranması gerektiğini siz gösterirsiniz.  Bilgisayar diyince aklınıza sadece Dizüstü Masaüstü bilgisayarlar gelmesin. Hesap Makinesi bile bir bilgisayardır.\n",
    "\n",
    "Programlama yaparken yazdığınız sözcüklerin (kodların) bütününe de yazılım denir. Yazılım kullanıcı ile bilgisayar arasında iletişim kurmayı sağlar.\n",
    " \n",
    "## Programlama Nasıl Yapılır ?\n",
    "\n",
    "Programlama geçmişten günümüze sürekli geliştirilerek gelmiştir ve hala da gelişmektedir. Her geçen gün işlerimizi kolaylaştıran diller, kütüphaneler ortaya çıkıyor.  Programlama yapabilmek, program yazabilmek için Bazı programlama dillerine ihtiyaç duyarız.\n",
    "Programlama Dilleri\n",
    "\n",
    "Programlama dilleri, program yazarken kullandığımız söz dizimleridir. Farklı programlama dilleri vardır, geçmişten günümüze sürekli farklı programlama dilleri geliştirilmiştir.\n",
    "Yani programı, herhangi bir programlama diliyle yazabilirsiniz. Mantık olarak hepsi aynıdır, yazımlarında farklılıklar vardır o kadar. Örnek olarak: csharp, visual basic, java, c, c++, python.. programlama dillerinden sadece bazıları.. Daha çok sayıda programlama dili vardır ve hepsi ihtiyaçlara göre farklı alanlarda kullanılır. Örneğin bazıları yazarken kolaylık sağlar bazıları hızda kolaylık sağlar vs.. Tüm hepsini bilmemize gerek yok. Sadece bir tanesini bilseniz yeterli.\n"
   ]
  },
  {
   "cell_type": "markdown",
   "metadata": {},
   "source": [
    "## PYTHON NEDİR VE NELER YAPILABİLİR?\n",
    "\n",
    "Python son zamanların en popüler programlama dillerinden biridir. Python programlama dili makine öğrenimi, sistem otomasyonları, web ve API’lerini geliştirme, bot sistemleri, yapay zeka, veri bilimi ve veri işleme gibi konular için temel yapıdadır.\n",
    "\n",
    "makine öğrenimi veya veri analizi denildiğinde ilk akla gelen programlama dillerinden biri olmayı başarmış ve gün geçtikçe ününü daha da büyütmeye devam etmiştir.\n",
    "\n",
    "## Python Programlama Dilinin Avantajları\n",
    "\n",
    "Python Programlama Dilinin Kullanımı ve Öğrenimi Çok Basit.\n",
    "\n",
    "Python syntaxı (söz dizimi) hem rahat okunabilir hem de ileriyi hedefleyen bir yapıdadır. Python programlama dilinin öğrenimi, kararlı yapısı sayesinde oldukça basittir.\n",
    "\n",
    "Yazılıma yeni başlayanlara en ideal ve basit dil olarak görüldüğü için Python programlama dili önerilir. Sadede gelecek olursak, Python programlama dili yazılıma yeni başlayan herkes için hızlı ve basit bir şekilde ilerlemeyi sağlar. Diğer programlama dillerine göre söz konusu basitlik olduğunda Python diğer programlama dillerine nazaran iki adım daha öndedir.\n",
    "\n",
    "Python,  yazılımcılar arasında oldukça popüler ve oldukça yaygın bir programlama dilidir. Github projelerinin çoğunda Python yazılım dili kullanılmıştır. Stackoverflow ve Github gibi programcıların genel olarak gezdikleri programlama örnek sıralama sistemlerinde, Python dili en üst sıralarda yer almaktadır.\n",
    "\n",
    "Kullanım alanlarını anlatacak olursak, en küçük işletim sistemlerinden en büyük işletim sistemlerine kadar neredeyse bütün OS tarafından desteklenir. İnternette bulunan birçok kütüphane ve API servislerinin kesinlikle Python tabanlı bindings veya wrappers’ları bulunmaktadır. Bunun sayesinde Python, servislerle serbest bir şekilde arayüz oluşturur veya kütüphaneler doğrudan kullanılır.\n",
    "\n",
    "## Makine Öğreniminde Python’un Yeri ve Veri Bilimi\n",
    "\n",
    "Karmaşık veri analizleri günümüz IT için önemli bir konu haline gelmiştir. Python bu durumlarda en kullanışlı programlama dilidir. Python kütüphanelerinin çoğu veri bilimi ve makine öğrenimi konularında gayet kullanışlıdır. Bu alandaki kütüphanelerde bulunan yüksek kaliteli komutlar, makine öğrenimi kütüphanelerinin ve diğer algoritma kütüphanelerinin sürekli gelişmesinde büyük katkı sağlamıştır.\n"
   ]
  },
  {
   "cell_type": "markdown",
   "metadata": {},
   "source": [
    "## Çalışma Ortamının kurulması\n",
    "\n",
    "Anaconda resmi sitesine (https://www.anaconda.com/products/individual) giderek işletim sistemimize uygun olan versiyonu indiriyoruz. Kurulum esnasında bütün değerleri varsayılanda bırakarak geçebiliriz . Daha sonrasında Anaconda Navigator programını açtığımızda conda ortamında kullanabileceğimiz birkaç farklı editör karşımıza çıkıyor. Biz bu eğitim için Jupyter Notebook programını indiriyoruz. Daha sonrasında yine Anaconda Navigator üzerinden açabileceğimiz gibi terminale/komut satırına “jupyter notebook” yazarak da editörümüzü açabileceğiz. \n"
   ]
  },
  {
   "cell_type": "markdown",
   "metadata": {},
   "source": [
    " "
   ]
  },
  {
   "cell_type": "markdown",
   "metadata": {},
   "source": [
    "# Standart Veri Tipleri"
   ]
  },
  {
   "cell_type": "markdown",
   "metadata": {},
   "source": [
    "Programların çalışmasında farklı amaçlar için farklı türlerde verilere ihtiyaç duyarız. Örneğin cinsiyet durumu için true/false, isim için string yada yaş bilgisi için int türünde verir.\n",
    "\n",
    "Python birçok veri tipi içermektedir. Bunlardan bazıları:\n",
    "\n",
    "\tİnt\n",
    "    \n",
    "    Float\n",
    "    \n",
    "\tString\n",
    "    \n",
    "\tList\n",
    "    \n",
    "\tTupple\n",
    "    \n",
    "    Dictionary\n"
   ]
  },
  {
   "cell_type": "markdown",
   "metadata": {},
   "source": [
    "## Değişkenler"
   ]
  },
  {
   "cell_type": "code",
   "execution_count": 4,
   "metadata": {},
   "outputs": [],
   "source": [
    "tamSayi = 5\n",
    "ondalikli_sayi = 3.2\n",
    "metin = \"merhaba\"\n",
    "liste = [1,3.2,\"elma\",\"armut\"]\n",
    "dogru_yanlis = True\n",
    "sozluk = {\"elma\":\"apple\",\"muz\":\"banana\"}"
   ]
  },
  {
   "cell_type": "code",
   "execution_count": 5,
   "metadata": {},
   "outputs": [
    {
     "data": {
      "text/plain": [
       "int"
      ]
     },
     "execution_count": 5,
     "metadata": {},
     "output_type": "execute_result"
    }
   ],
   "source": [
    "type(tamSayi)"
   ]
  },
  {
   "cell_type": "markdown",
   "metadata": {},
   "source": [
    "## Print fonksiyonu\n"
   ]
  },
  {
   "cell_type": "code",
   "execution_count": 6,
   "metadata": {},
   "outputs": [
    {
     "name": "stdout",
     "output_type": "stream",
     "text": [
      "merhaba\n"
     ]
    }
   ],
   "source": [
    "print(\"merhaba\")"
   ]
  },
  {
   "cell_type": "code",
   "execution_count": 7,
   "metadata": {},
   "outputs": [
    {
     "data": {
      "text/plain": [
       "'merhaba'"
      ]
     },
     "execution_count": 7,
     "metadata": {},
     "output_type": "execute_result"
    }
   ],
   "source": [
    "\"merhaba\""
   ]
  },
  {
   "cell_type": "code",
   "execution_count": 8,
   "metadata": {},
   "outputs": [
    {
     "data": {
      "text/plain": [
       "5"
      ]
     },
     "execution_count": 8,
     "metadata": {},
     "output_type": "execute_result"
    }
   ],
   "source": [
    "5"
   ]
  },
  {
   "cell_type": "code",
   "execution_count": 9,
   "metadata": {},
   "outputs": [
    {
     "data": {
      "text/plain": [
       "8"
      ]
     },
     "execution_count": 9,
     "metadata": {},
     "output_type": "execute_result"
    }
   ],
   "source": [
    "3+5"
   ]
  },
  {
   "cell_type": "code",
   "execution_count": 10,
   "metadata": {},
   "outputs": [
    {
     "data": {
      "text/plain": [
       "1.8"
      ]
     },
     "execution_count": 10,
     "metadata": {},
     "output_type": "execute_result"
    }
   ],
   "source": [
    "9/5"
   ]
  },
  {
   "cell_type": "code",
   "execution_count": 11,
   "metadata": {},
   "outputs": [
    {
     "data": {
      "text/plain": [
       "3"
      ]
     },
     "execution_count": 11,
     "metadata": {},
     "output_type": "execute_result"
    }
   ],
   "source": [
    "11//3"
   ]
  },
  {
   "cell_type": "code",
   "execution_count": 12,
   "metadata": {},
   "outputs": [
    {
     "data": {
      "text/plain": [
       "2"
      ]
     },
     "execution_count": 12,
     "metadata": {},
     "output_type": "execute_result"
    }
   ],
   "source": [
    "11%3"
   ]
  },
  {
   "cell_type": "code",
   "execution_count": 13,
   "metadata": {},
   "outputs": [
    {
     "data": {
      "text/plain": [
       "10"
      ]
     },
     "execution_count": 13,
     "metadata": {},
     "output_type": "execute_result"
    }
   ],
   "source": [
    "2*5"
   ]
  },
  {
   "cell_type": "code",
   "execution_count": 14,
   "metadata": {},
   "outputs": [
    {
     "data": {
      "text/plain": [
       "32"
      ]
     },
     "execution_count": 14,
     "metadata": {},
     "output_type": "execute_result"
    }
   ],
   "source": [
    "2**5"
   ]
  },
  {
   "cell_type": "code",
   "execution_count": 15,
   "metadata": {},
   "outputs": [
    {
     "data": {
      "text/plain": [
       "-5"
      ]
     },
     "execution_count": 15,
     "metadata": {},
     "output_type": "execute_result"
    }
   ],
   "source": [
    "-5"
   ]
  },
  {
   "cell_type": "code",
   "execution_count": 16,
   "metadata": {},
   "outputs": [
    {
     "data": {
      "text/plain": [
       "7"
      ]
     },
     "execution_count": 16,
     "metadata": {},
     "output_type": "execute_result"
    }
   ],
   "source": [
    "a = 5\n",
    "b = 2\n",
    "a + b"
   ]
  },
  {
   "cell_type": "code",
   "execution_count": 19,
   "metadata": {},
   "outputs": [
    {
     "data": {
      "text/plain": [
       "'merhaba ali'"
      ]
     },
     "execution_count": 19,
     "metadata": {},
     "output_type": "execute_result"
    }
   ],
   "source": [
    "c = \"merhaba\"\n",
    "d = \"ali\"\n",
    "c + \" \" + d"
   ]
  },
  {
   "cell_type": "code",
   "execution_count": 21,
   "metadata": {},
   "outputs": [
    {
     "data": {
      "text/plain": [
       "'merhabaali'"
      ]
     },
     "execution_count": 21,
     "metadata": {},
     "output_type": "execute_result"
    }
   ],
   "source": [
    "c + d"
   ]
  },
  {
   "cell_type": "code",
   "execution_count": 22,
   "metadata": {},
   "outputs": [
    {
     "data": {
      "text/plain": [
       "10"
      ]
     },
     "execution_count": 22,
     "metadata": {},
     "output_type": "execute_result"
    }
   ],
   "source": [
    "e = a * b\n",
    "e"
   ]
  },
  {
   "cell_type": "code",
   "execution_count": 23,
   "metadata": {},
   "outputs": [
    {
     "data": {
      "text/plain": [
       "(52, 70)"
      ]
     },
     "execution_count": 23,
     "metadata": {},
     "output_type": "execute_result"
    }
   ],
   "source": [
    "f = e * a + b\n",
    "g = e * (a + b)\n",
    "f, g"
   ]
  },
  {
   "cell_type": "markdown",
   "metadata": {},
   "source": [
    "### Python Değişken İsimlendirme Kuralları"
   ]
  },
  {
   "cell_type": "markdown",
   "metadata": {},
   "source": [
    "Değişken isimlerini açık ve anlaşılır yazmak işinize gelir.büyük bir kod yazarken “a” değişkeni yerine “sayi” adlı değişken daha açıklayıcı ve sade olur."
   ]
  },
  {
   "cell_type": "markdown",
   "metadata": {},
   "source": [
    "Değişken isimleri hem harf hem sayı içerebilir. Fakat mutlaka harfle başlamalıdır"
   ]
  },
  {
   "cell_type": "code",
   "execution_count": 24,
   "metadata": {},
   "outputs": [
    {
     "ename": "SyntaxError",
     "evalue": "invalid syntax (<ipython-input-24-1731ea4e6608>, line 1)",
     "output_type": "error",
     "traceback": [
      "\u001b[1;36m  File \u001b[1;32m\"<ipython-input-24-1731ea4e6608>\"\u001b[1;36m, line \u001b[1;32m1\u001b[0m\n\u001b[1;33m    17fatih = \"algoritma\"\u001b[0m\n\u001b[1;37m      ^\u001b[0m\n\u001b[1;31mSyntaxError\u001b[0m\u001b[1;31m:\u001b[0m invalid syntax\n"
     ]
    }
   ],
   "source": [
    "17fatih = \"algoritma\""
   ]
  },
  {
   "cell_type": "code",
   "execution_count": 25,
   "metadata": {},
   "outputs": [],
   "source": [
    "fatih17 = \"algoritma\""
   ]
  },
  {
   "cell_type": "markdown",
   "metadata": {},
   "source": [
    "Değişkenlerin içinde alt çizgi karakteri (“_”) kullanabilirsiniz."
   ]
  },
  {
   "cell_type": "code",
   "execution_count": 26,
   "metadata": {},
   "outputs": [],
   "source": [
    "virgullu_sayi = 0,3256"
   ]
  },
  {
   "cell_type": "markdown",
   "metadata": {},
   "source": [
    "Değişken isimleri büyük-küçük harf duyarlıdır.\n",
    "\"Sayi\" degişkeni ile \"sayi\" degişkeni aynı değildir"
   ]
  },
  {
   "cell_type": "code",
   "execution_count": 27,
   "metadata": {},
   "outputs": [
    {
     "data": {
      "text/plain": [
       "(5, 4)"
      ]
     },
     "execution_count": 27,
     "metadata": {},
     "output_type": "execute_result"
    }
   ],
   "source": [
    "a=5\n",
    "A=4\n",
    "a,A"
   ]
  },
  {
   "cell_type": "markdown",
   "metadata": {},
   "source": [
    "'”`;,<>/?|\\/()!@#$%^&*~-+  gibi karakterler değişken isimlerinde bulunamazlar"
   ]
  },
  {
   "cell_type": "code",
   "execution_count": 28,
   "metadata": {},
   "outputs": [
    {
     "ename": "SyntaxError",
     "evalue": "cannot assign to operator (<ipython-input-28-61a34c6a7fad>, line 1)",
     "output_type": "error",
     "traceback": [
      "\u001b[1;36m  File \u001b[1;32m\"<ipython-input-28-61a34c6a7fad>\"\u001b[1;36m, line \u001b[1;32m1\u001b[0m\n\u001b[1;33m    s@yı = 5\u001b[0m\n\u001b[1;37m    ^\u001b[0m\n\u001b[1;31mSyntaxError\u001b[0m\u001b[1;31m:\u001b[0m cannot assign to operator\n"
     ]
    }
   ],
   "source": [
    "s@yı = 5"
   ]
  },
  {
   "cell_type": "code",
   "execution_count": 29,
   "metadata": {},
   "outputs": [
    {
     "ename": "NameError",
     "evalue": "name 'kişi' is not defined",
     "output_type": "error",
     "traceback": [
      "\u001b[1;31m---------------------------------------------------------------------------\u001b[0m",
      "\u001b[1;31mNameError\u001b[0m                                 Traceback (most recent call last)",
      "\u001b[1;32m<ipython-input-29-34b90df890bc>\u001b[0m in \u001b[0;36m<module>\u001b[1;34m\u001b[0m\n\u001b[1;32m----> 1\u001b[1;33m \u001b[0mkişi\u001b[0m\u001b[1;33m.\u001b[0m\u001b[0mcom\u001b[0m \u001b[1;33m=\u001b[0m \u001b[1;34m\"ahmet\"\u001b[0m\u001b[1;33m\u001b[0m\u001b[1;33m\u001b[0m\u001b[0m\n\u001b[0m",
      "\u001b[1;31mNameError\u001b[0m: name 'kişi' is not defined"
     ]
    }
   ],
   "source": [
    "kişi.com = \"ahmet\""
   ]
  },
  {
   "cell_type": "markdown",
   "metadata": {},
   "source": [
    "Değişkenlere isim verirken anahtar kelimeler kullanamazsınız"
   ]
  },
  {
   "cell_type": "code",
   "execution_count": 30,
   "metadata": {},
   "outputs": [
    {
     "ename": "SyntaxError",
     "evalue": "invalid syntax (<ipython-input-30-bf706ffb8b56>, line 1)",
     "output_type": "error",
     "traceback": [
      "\u001b[1;36m  File \u001b[1;32m\"<ipython-input-30-bf706ffb8b56>\"\u001b[1;36m, line \u001b[1;32m1\u001b[0m\n\u001b[1;33m    and = \"and adında degişken\"\u001b[0m\n\u001b[1;37m    ^\u001b[0m\n\u001b[1;31mSyntaxError\u001b[0m\u001b[1;31m:\u001b[0m invalid syntax\n"
     ]
    }
   ],
   "source": [
    "and = \"and adında degişken\""
   ]
  },
  {
   "cell_type": "markdown",
   "metadata": {},
   "source": [
    "Python'da kullanılan tüm anahtar kelimeler:"
   ]
  },
  {
   "cell_type": "code",
   "execution_count": 31,
   "metadata": {},
   "outputs": [
    {
     "data": {
      "text/plain": [
       "['False',\n",
       " 'None',\n",
       " 'True',\n",
       " 'and',\n",
       " 'as',\n",
       " 'assert',\n",
       " 'async',\n",
       " 'await',\n",
       " 'break',\n",
       " 'class',\n",
       " 'continue',\n",
       " 'def',\n",
       " 'del',\n",
       " 'elif',\n",
       " 'else',\n",
       " 'except',\n",
       " 'finally',\n",
       " 'for',\n",
       " 'from',\n",
       " 'global',\n",
       " 'if',\n",
       " 'import',\n",
       " 'in',\n",
       " 'is',\n",
       " 'lambda',\n",
       " 'nonlocal',\n",
       " 'not',\n",
       " 'or',\n",
       " 'pass',\n",
       " 'raise',\n",
       " 'return',\n",
       " 'try',\n",
       " 'while',\n",
       " 'with',\n",
       " 'yield']"
      ]
     },
     "execution_count": 31,
     "metadata": {},
     "output_type": "execute_result"
    }
   ],
   "source": [
    "import keyword\n",
    "keyword.kwlist"
   ]
  },
  {
   "cell_type": "markdown",
   "metadata": {},
   "source": [
    "## OPERATORLER "
   ]
  },
  {
   "cell_type": "code",
   "execution_count": 32,
   "metadata": {},
   "outputs": [
    {
     "name": "stdout",
     "output_type": "stream",
     "text": [
      "14\n",
      "7.0\n",
      "3.3333333333333335\n",
      "3\n"
     ]
    }
   ],
   "source": [
    "# Atama / işlemli atam operatoru (=)\n",
    "sayi=5\n",
    "\n",
    "sayi = sayi+2\n",
    "\n",
    "sayi+=2 # sayi = sayi+2\n",
    "sayi-=2 # sayi = sayi-2\n",
    "sayi*=2 # sayi = sayi*2\n",
    "print(sayi)\n",
    "\n",
    "sayi/=2 # sayi = sayi/2\n",
    "print(sayi)\n",
    "\n",
    "sayi=10\n",
    "sayi/=3\n",
    "print(sayi)\n",
    "\n",
    "# bölme işleminde ondalık kısmı yok edip sadece tam sayıyı alma\n",
    "sayi=10\n",
    "sayi//=3\n",
    "print(sayi)\n"
   ]
  },
  {
   "cell_type": "markdown",
   "metadata": {},
   "source": [
    "## Karşılaştırma Operatörleri"
   ]
  },
  {
   "cell_type": "markdown",
   "metadata": {},
   "source": [
    "== ,> ,<=  karşılaştırma operatörlerinden bazılarıdır"
   ]
  },
  {
   "cell_type": "code",
   "execution_count": 33,
   "metadata": {},
   "outputs": [
    {
     "data": {
      "text/plain": [
       "True"
      ]
     },
     "execution_count": 33,
     "metadata": {},
     "output_type": "execute_result"
    }
   ],
   "source": [
    "1==1"
   ]
  },
  {
   "cell_type": "code",
   "execution_count": 34,
   "metadata": {},
   "outputs": [
    {
     "name": "stdout",
     "output_type": "stream",
     "text": [
      "False True True False\n"
     ]
    }
   ],
   "source": [
    "sayi1=8\n",
    "sayi2=4\n",
    "\n",
    "bool1 = sayi1==sayi2 # eşitse True değilse False\n",
    "bool2 = sayi1!=sayi2 # eşitse False değilse True\n",
    "bool3 = sayi1>=sayi2 # sayi1 sayi2 den büyük veya eşitse True\n",
    "bool4 = sayi1<=sayi2 # sayi1 sayi2 den küçük veya eşitse True\n",
    "print(bool1,bool2,bool3,bool4)"
   ]
  },
  {
   "cell_type": "code",
   "execution_count": 35,
   "metadata": {},
   "outputs": [
    {
     "data": {
      "text/plain": [
       "(False, False)"
      ]
     },
     "execution_count": 35,
     "metadata": {},
     "output_type": "execute_result"
    }
   ],
   "source": [
    "isim=\"Ali\"\n",
    "isim1=\"Veli\"\n",
    "isim2=\"ali\"\n",
    "bool5= isim==isim1\n",
    "bool6= isim==isim2\n",
    "bool5,bool6"
   ]
  },
  {
   "cell_type": "code",
   "execution_count": 36,
   "metadata": {},
   "outputs": [
    {
     "data": {
      "text/plain": [
       "False"
      ]
     },
     "execution_count": 36,
     "metadata": {},
     "output_type": "execute_result"
    }
   ],
   "source": [
    "sayi3=\"5\"\n",
    "sayi4=5\n",
    "bool7= sayi3==sayi4\n",
    "bool7"
   ]
  },
  {
   "cell_type": "markdown",
   "metadata": {},
   "source": [
    "# Mantıksal Operatörler\n",
    "### AND\n",
    "\n",
    "00=0\n",
    "\n",
    "01=0\n",
    "\n",
    "10=0\n",
    "\n",
    "11=1\n",
    "\n",
    "\n",
    "### OR\n",
    "\n",
    "00=0\n",
    "\n",
    "01=1\n",
    "\n",
    "10=1\n",
    "\n",
    "11=1\n"
   ]
  },
  {
   "cell_type": "code",
   "execution_count": 37,
   "metadata": {},
   "outputs": [
    {
     "data": {
      "text/plain": [
       "1"
      ]
     },
     "execution_count": 37,
     "metadata": {},
     "output_type": "execute_result"
    }
   ],
   "source": [
    "1 and 1"
   ]
  },
  {
   "cell_type": "code",
   "execution_count": 38,
   "metadata": {},
   "outputs": [
    {
     "data": {
      "text/plain": [
       "0"
      ]
     },
     "execution_count": 38,
     "metadata": {},
     "output_type": "execute_result"
    }
   ],
   "source": [
    "1 and 0"
   ]
  },
  {
   "cell_type": "code",
   "execution_count": 39,
   "metadata": {},
   "outputs": [
    {
     "data": {
      "text/plain": [
       "1"
      ]
     },
     "execution_count": 39,
     "metadata": {},
     "output_type": "execute_result"
    }
   ],
   "source": [
    "1 or 0"
   ]
  },
  {
   "cell_type": "code",
   "execution_count": 40,
   "metadata": {},
   "outputs": [
    {
     "data": {
      "text/plain": [
       "True"
      ]
     },
     "execution_count": 40,
     "metadata": {},
     "output_type": "execute_result"
    }
   ],
   "source": [
    "a=5\n",
    "a>0 and a<10"
   ]
  },
  {
   "cell_type": "code",
   "execution_count": 41,
   "metadata": {},
   "outputs": [
    {
     "data": {
      "text/plain": [
       "False"
      ]
     },
     "execution_count": 41,
     "metadata": {},
     "output_type": "execute_result"
    }
   ],
   "source": [
    "a=5\n",
    "a>0 and a%2==0"
   ]
  },
  {
   "cell_type": "code",
   "execution_count": 42,
   "metadata": {},
   "outputs": [
    {
     "data": {
      "text/plain": [
       "True"
      ]
     },
     "execution_count": 42,
     "metadata": {},
     "output_type": "execute_result"
    }
   ],
   "source": [
    "a=5\n",
    "a>0 or a%2==0"
   ]
  },
  {
   "cell_type": "markdown",
   "metadata": {},
   "source": [
    "## VERİ GİRİŞİ "
   ]
  },
  {
   "cell_type": "markdown",
   "metadata": {},
   "source": [
    "Pythonda veri girişi için birçok yöntem vardır. Bunlar ses kamera verisi olacağı gibi terminale yazacağımız bir yazı da olabilir. Terminalde veri almak için de input fonksiyonunu kullanırız"
   ]
  },
  {
   "cell_type": "code",
   "execution_count": 44,
   "metadata": {},
   "outputs": [
    {
     "name": "stdout",
     "output_type": "stream",
     "text": [
      "İsminiz nedir? Bilal\n",
      "merhaba Bilal\n"
     ]
    }
   ],
   "source": [
    "isim = input(\"İsminiz nedir? \")\n",
    "print(\"merhaba \" + isim)"
   ]
  },
  {
   "cell_type": "code",
   "execution_count": 45,
   "metadata": {},
   "outputs": [
    {
     "name": "stdout",
     "output_type": "stream",
     "text": [
      "sayı giriniz? 5\n"
     ]
    },
    {
     "data": {
      "text/plain": [
       "str"
      ]
     },
     "execution_count": 45,
     "metadata": {},
     "output_type": "execute_result"
    }
   ],
   "source": [
    "sayi = input(\"sayı giriniz? \")\n",
    "type(sayi)"
   ]
  },
  {
   "cell_type": "code",
   "execution_count": 46,
   "metadata": {},
   "outputs": [
    {
     "name": "stdout",
     "output_type": "stream",
     "text": [
      "sayı giriniz? 5\n",
      "2. sayıyı giriniz? 4\n"
     ]
    },
    {
     "data": {
      "text/plain": [
       "'54'"
      ]
     },
     "execution_count": 46,
     "metadata": {},
     "output_type": "execute_result"
    }
   ],
   "source": [
    "sayi = input(\"sayı giriniz? \")\n",
    "sayi2 = input(\"2. sayıyı giriniz? \")\n",
    "sayi + sayi2"
   ]
  },
  {
   "cell_type": "markdown",
   "metadata": {},
   "source": [
    "## TİP-DÖNÜŞÜMLERi"
   ]
  },
  {
   "cell_type": "markdown",
   "metadata": {},
   "source": [
    "Bazen veri tiplerini birbirlerine çevirmemiz gerekir. En basit örneğiyle input ile aldığımız veri string tipindedir onu tamsayı olarak toplama çıkarma gibi işlemlere tabi tutabilmek için int tipine çevirmemiz gerekir"
   ]
  },
  {
   "cell_type": "code",
   "execution_count": 47,
   "metadata": {},
   "outputs": [
    {
     "name": "stdout",
     "output_type": "stream",
     "text": [
      "<class 'str'>\n"
     ]
    },
    {
     "data": {
      "text/plain": [
       "int"
      ]
     },
     "execution_count": 47,
     "metadata": {},
     "output_type": "execute_result"
    }
   ],
   "source": [
    "sayi = \"5\"\n",
    "print(type(sayi))\n",
    "type( int(sayi) )"
   ]
  },
  {
   "cell_type": "code",
   "execution_count": 48,
   "metadata": {},
   "outputs": [
    {
     "name": "stdout",
     "output_type": "stream",
     "text": [
      "1. sayıyı giriniz? 1\n",
      "2. sayıyı giriniz? 2\n"
     ]
    },
    {
     "data": {
      "text/plain": [
       "'12'"
      ]
     },
     "execution_count": 48,
     "metadata": {},
     "output_type": "execute_result"
    }
   ],
   "source": [
    "sayi1 = input(\"1. sayıyı giriniz? \")\n",
    "sayi2 = input(\"2. sayıyı giriniz? \")\n",
    "sayi1 + sayi2"
   ]
  },
  {
   "cell_type": "code",
   "execution_count": 49,
   "metadata": {},
   "outputs": [
    {
     "name": "stdout",
     "output_type": "stream",
     "text": [
      "1. sayıyı giriniz? 2\n",
      "2. sayıyı giriniz? 4\n"
     ]
    },
    {
     "data": {
      "text/plain": [
       "6"
      ]
     },
     "execution_count": 49,
     "metadata": {},
     "output_type": "execute_result"
    }
   ],
   "source": [
    "sayi1 = int( input(\"1. sayıyı giriniz? \") )\n",
    "sayi2 = input(\"2. sayıyı giriniz? \")\n",
    "sayi1 + int(sayi2)"
   ]
  },
  {
   "cell_type": "markdown",
   "metadata": {},
   "source": [
    "## Diziler"
   ]
  },
  {
   "cell_type": "markdown",
   "metadata": {},
   "source": [
    "Python array değişken türünün en önemli özelliklerinden birisi dizi içinde farklı değişken türlerini bir arada tutabilmenizdir. Böylece oldukça kolay bir şekilde farklı türleri aynı dizide depolayabilirsiniz. Öyleyse birçok farklı yöntemle liste/dizi nasıl oluşturulur hemen onu görelim."
   ]
  },
  {
   "cell_type": "code",
   "execution_count": null,
   "metadata": {},
   "outputs": [],
   "source": [
    "# boş liste değişkeni \n",
    "liste =  []\n",
    "\n",
    "# dizi/liste(array) oluşturmanın farklı bir tarzı\n",
    "liste =  list()\n",
    "\n",
    "# sadece int değerler tutan dizi/liste\n",
    "liste =  [1,2,3,4,5,6,7]\n",
    "\n",
    "# string tutan array\n",
    "liste =  list(\"İstanbul\",\"Ankara\",\"İzmir\")\n",
    "\n",
    "# farklı değişken türleri tutan liste isimli array değişkeni\n",
    "liste =  [10,11,12,\"Python\",3.14,51.035]\n",
    "\n",
    "# string parçalayarak dizi/liste oluşturma\n",
    "isim = \"İstanbul\"\n",
    "liste =  list(isim)\n",
    "\n"
   ]
  },
  {
   "cell_type": "code",
   "execution_count": 50,
   "metadata": {},
   "outputs": [
    {
     "data": {
      "text/plain": [
       "'Kivi'"
      ]
     },
     "execution_count": 50,
     "metadata": {},
     "output_type": "execute_result"
    }
   ],
   "source": [
    "# array indexleme /basit dizi\n",
    "liste = [\"Elma\",\"Armut\",\"Kivi\",\"Muz\"]\n",
    "liste[2]"
   ]
  },
  {
   "cell_type": "code",
   "execution_count": 51,
   "metadata": {},
   "outputs": [
    {
     "data": {
      "text/plain": [
       "[[1, 2, 3], [4, 5, 6], [7, 8, 9]]"
      ]
     },
     "execution_count": 51,
     "metadata": {},
     "output_type": "execute_result"
    }
   ],
   "source": [
    "# array indexleme /iç içe dizi\n",
    "liste1 = [1,2,3]\n",
    "liste2 = [4,5,6]\n",
    "liste3 = [7,8,9]\n",
    "yeniliste = [liste1,liste2,liste3]\n",
    "yeniliste"
   ]
  },
  {
   "cell_type": "code",
   "execution_count": 53,
   "metadata": {},
   "outputs": [
    {
     "data": {
      "text/plain": [
       "6"
      ]
     },
     "execution_count": 53,
     "metadata": {},
     "output_type": "execute_result"
    }
   ],
   "source": [
    "yeniliste[1][2]"
   ]
  },
  {
   "cell_type": "code",
   "execution_count": 58,
   "metadata": {},
   "outputs": [
    {
     "data": {
      "text/plain": [
       "9"
      ]
     },
     "execution_count": 58,
     "metadata": {},
     "output_type": "execute_result"
    }
   ],
   "source": [
    "# Listenin sonuncu elemanını gösterme\n",
    "liste = [3,4,5,6,7,8,9]\n",
    "uzunluk = len(liste)\n",
    "liste[uzunluk-1]"
   ]
  },
  {
   "cell_type": "code",
   "execution_count": 63,
   "metadata": {},
   "outputs": [
    {
     "data": {
      "text/plain": [
       "[5, 4, 3]"
      ]
     },
     "execution_count": 63,
     "metadata": {},
     "output_type": "execute_result"
    }
   ],
   "source": [
    "# Baştan 4. indekse kadar (dahil değil)\n",
    "liste = [3,4,5,6,7,8,9]\n",
    "liste[2::-1]"
   ]
  },
  {
   "cell_type": "code",
   "execution_count": 64,
   "metadata": {},
   "outputs": [
    {
     "data": {
      "text/plain": [
       "[5, 6]"
      ]
     },
     "execution_count": 64,
     "metadata": {},
     "output_type": "execute_result"
    }
   ],
   "source": [
    "# 2. ve 4. arasını alma\n",
    "liste = [3,4,5,6,7,8,9]\n",
    "liste[2:4]"
   ]
  },
  {
   "cell_type": "code",
   "execution_count": null,
   "metadata": {},
   "outputs": [],
   "source": [
    "# 3. indexten sonuna kadar alma\n",
    "liste = [3,4,5,6,7,8,9]\n",
    "liste[3:]"
   ]
  },
  {
   "cell_type": "code",
   "execution_count": 65,
   "metadata": {},
   "outputs": [
    {
     "data": {
      "text/plain": [
       "[1, 2, 3, 4, 5, 6, 7, 8, 9, 10]"
      ]
     },
     "execution_count": 65,
     "metadata": {},
     "output_type": "execute_result"
    }
   ],
   "source": [
    "# Listeleri birleştirme\n",
    "liste1 =  [1,2,3,4,5]\n",
    "liste2 =  [6,7,8,9,10]\n",
    "liste1 + liste2"
   ]
  },
  {
   "cell_type": "code",
   "execution_count": 66,
   "metadata": {},
   "outputs": [
    {
     "data": {
      "text/plain": [
       "['Manisa', 'Düzce', 'Bolu', 'Çankırı']"
      ]
     },
     "execution_count": 66,
     "metadata": {},
     "output_type": "execute_result"
    }
   ],
   "source": [
    "# Diziye eleman dahil etme\n",
    "liste =  [\"Manisa\",\"Düzce\",\"Bolu\"]\n",
    "liste + [\"Çankırı\"]"
   ]
  },
  {
   "cell_type": "code",
   "execution_count": 68,
   "metadata": {},
   "outputs": [
    {
     "data": {
      "text/plain": [
       "[1, 2, 'Merhaba', 4, 5]"
      ]
     },
     "execution_count": 68,
     "metadata": {},
     "output_type": "execute_result"
    }
   ],
   "source": [
    "# Listedeki elemanı değiştirme /Yöntem1\n",
    "liste =  [1,2,3,4,5]\n",
    "liste[2]=\"Merhaba\"\n",
    "liste"
   ]
  },
  {
   "cell_type": "code",
   "execution_count": 70,
   "metadata": {},
   "outputs": [
    {
     "data": {
      "text/plain": [
       "[10, 20, 4, 5]"
      ]
     },
     "execution_count": 70,
     "metadata": {},
     "output_type": "execute_result"
    }
   ],
   "source": [
    "liste =  [1,2,3,4,5]\n",
    "liste[:3]=[10,20]\n",
    "liste"
   ]
  },
  {
   "cell_type": "code",
   "execution_count": 72,
   "metadata": {},
   "outputs": [
    {
     "data": {
      "text/plain": [
       "[1, 2, 3, 4, 5, 1, 2, 3, 4, 5]"
      ]
     },
     "execution_count": 72,
     "metadata": {},
     "output_type": "execute_result"
    }
   ],
   "source": [
    "# Dizi çarpma işlemi ile tekrarlama\n",
    "liste =  [1,2,3,4,5]\n",
    "liste = liste*2\n",
    "liste"
   ]
  },
  {
   "cell_type": "code",
   "execution_count": 73,
   "metadata": {},
   "outputs": [
    {
     "data": {
      "text/plain": [
       "11"
      ]
     },
     "execution_count": 73,
     "metadata": {},
     "output_type": "execute_result"
    }
   ],
   "source": [
    "# Liste eleman sayısı\n",
    "liste = [3,4,5,6,6,7,8,9,0,0,0]\n",
    "len(liste)"
   ]
  },
  {
   "cell_type": "code",
   "execution_count": 74,
   "metadata": {},
   "outputs": [
    {
     "data": {
      "text/plain": [
       "[1, 2, 3, 4, 5, 6]"
      ]
     },
     "execution_count": 74,
     "metadata": {},
     "output_type": "execute_result"
    }
   ],
   "source": [
    "liste =  [1,2,3,4,5]\n",
    "liste.append([1,2])\n",
    "liste"
   ]
  },
  {
   "cell_type": "code",
   "execution_count": 75,
   "metadata": {},
   "outputs": [
    {
     "data": {
      "text/plain": [
       "[1, 2, 3, 4]"
      ]
     },
     "execution_count": 75,
     "metadata": {},
     "output_type": "execute_result"
    }
   ],
   "source": [
    "# Dizi sonundaki elemanı çıkarma\n",
    "liste =  [1,2,3,4,5]\n",
    "liste.pop()\n",
    "liste"
   ]
  },
  {
   "cell_type": "code",
   "execution_count": 78,
   "metadata": {},
   "outputs": [
    {
     "name": "stdout",
     "output_type": "stream",
     "text": [
      "Deniz\n"
     ]
    },
    {
     "data": {
      "text/plain": [
       "['Ali', 'Yunus', 'Asım']"
      ]
     },
     "execution_count": 78,
     "metadata": {},
     "output_type": "execute_result"
    }
   ],
   "source": [
    "# Dizide istediğim indexteki elemanı çıkarma /çıkan elemanı ekrana basar\n",
    "liste =  [\"Ali\",\"Yunus\",\"Deniz\",\"Asım\"]\n",
    "print(liste.pop(2))\n",
    "liste"
   ]
  },
  {
   "cell_type": "code",
   "execution_count": 82,
   "metadata": {},
   "outputs": [
    {
     "data": {
      "text/plain": [
       "[5, 13, 35, 43, 78, 86, 90]"
      ]
     },
     "execution_count": 82,
     "metadata": {},
     "output_type": "execute_result"
    }
   ],
   "source": [
    "# Dizi elemanlarını küçükten büyüğe doğru sıralar\n",
    "liste =  [43,35,78,13,5,86,90]\n",
    "liste.sort()\n",
    "liste"
   ]
  },
  {
   "cell_type": "code",
   "execution_count": 83,
   "metadata": {},
   "outputs": [
    {
     "data": {
      "text/plain": [
       "['13', '35', '43', '5', '78', '86', '90']"
      ]
     },
     "execution_count": 83,
     "metadata": {},
     "output_type": "execute_result"
    }
   ],
   "source": [
    "# Dizi elemanlarını küçükten büyüğe doğru sıralar\n",
    "liste =  [\"43\",\"35\",\"78\",\"13\",\"5\",\"86\",\"90\"]\n",
    "liste.sort()\n",
    "liste"
   ]
  },
  {
   "cell_type": "code",
   "execution_count": 84,
   "metadata": {},
   "outputs": [
    {
     "data": {
      "text/plain": [
       "[90, 86, 78, 43, 35, 13, 5]"
      ]
     },
     "execution_count": 84,
     "metadata": {},
     "output_type": "execute_result"
    }
   ],
   "source": [
    "# Dizi elemanlarını büyüktenten küçüğe doğru sıralar\n",
    "liste =  [43,35,78,13,5,86,90]\n",
    "liste.sort(reverse=True)\n",
    "liste"
   ]
  },
  {
   "cell_type": "markdown",
   "metadata": {},
   "source": [
    "## Koşullu ifadeler"
   ]
  },
  {
   "cell_type": "markdown",
   "metadata": {},
   "source": [
    "Pythonda koşullu durumlar ile bir koşuldan elde ettiğimiz True ya da False değere göre programın farklı yönlerden ilerlemesini sağlayabiliriz.\n",
    "\n",
    "Aşağıda bazı koşul ifadeleri verilmiştir. Bu koşullar bize True ya da False değer üretirler.\n",
    "\n",
    "Eşit mi : a == b,\n",
    "\n",
    "Eşit değil mi: a != b\n",
    "\n",
    "Küçük mü : a < b\n",
    "\n",
    "Küçük ya da eşit mi: a <= b\n",
    "\n",
    "Büyük mü: a > b\n",
    "\n",
    "Büyük ya da eşit mi: a >= b"
   ]
  },
  {
   "cell_type": "code",
   "execution_count": 89,
   "metadata": {
    "scrolled": true
   },
   "outputs": [
    {
     "name": "stdout",
     "output_type": "stream",
     "text": [
      "b, a'dan büyüktür\n",
      "ok\n"
     ]
    },
    {
     "data": {
      "text/plain": [
       "'bu kısım her zaman çalışır'"
      ]
     },
     "execution_count": 89,
     "metadata": {},
     "output_type": "execute_result"
    }
   ],
   "source": [
    "a = 10\n",
    "b = 20\n",
    "if b > a:\n",
    "    print(\"b, a'dan büyüktür\")\n",
    "    print(\"ok\")\n",
    "\"bu kısım her zaman çalışır\""
   ]
  },
  {
   "cell_type": "code",
   "execution_count": 96,
   "metadata": {},
   "outputs": [
    {
     "name": "stdout",
     "output_type": "stream",
     "text": [
      "a, b'den büyüktür\n",
      "a b eşittir\n"
     ]
    }
   ],
   "source": [
    "a = 20\n",
    "b = 20\n",
    "if b > a:\n",
    "  print(\"b, a'dan büyüktür\")\n",
    "if b <= a:\n",
    "  print(\"a, b'den büyüktür\")\n",
    "if b==a:\n",
    "    print(\"a b eşittir\")"
   ]
  },
  {
   "cell_type": "code",
   "execution_count": 101,
   "metadata": {},
   "outputs": [
    {
     "name": "stdout",
     "output_type": "stream",
     "text": [
      "a ile b eşittir\n"
     ]
    }
   ],
   "source": [
    "a = 10\n",
    "b = 10\n",
    "if b > a:\n",
    "  print(\"b, a'dan büyüktür\")\n",
    "elif a == b:\n",
    "  print(\"a ile b eşittir\")\n"
   ]
  },
  {
   "cell_type": "code",
   "execution_count": 102,
   "metadata": {},
   "outputs": [
    {
     "name": "stdout",
     "output_type": "stream",
     "text": [
      "a, b'den büyüktür\n"
     ]
    }
   ],
   "source": [
    "a = 15\n",
    "b = 10\n",
    "if b > a:\n",
    "  print(\"b, a'dan büyüktür\")\n",
    "elif a == b:\n",
    "  print(\"a ile b eşittir\")\n",
    "elif a > b:\n",
    "  print(\"a, b'den büyüktür\")"
   ]
  },
  {
   "cell_type": "code",
   "execution_count": 103,
   "metadata": {},
   "outputs": [
    {
     "name": "stdout",
     "output_type": "stream",
     "text": [
      "a, b'den büyüktür\n"
     ]
    }
   ],
   "source": [
    "a = 15\n",
    "b = 10\n",
    "if b > a:\n",
    "  print(\"b, a'dan büyüktür\")\n",
    "elif a == b:\n",
    "  print(\"a ile b eşittir\")\n",
    "else:\n",
    "  print(\"a, b'den büyüktür\")\n"
   ]
  },
  {
   "cell_type": "code",
   "execution_count": 106,
   "metadata": {},
   "outputs": [
    {
     "name": "stdout",
     "output_type": "stream",
     "text": [
      "sayı: 0\n",
      "sayı sıfır\n"
     ]
    }
   ],
   "source": [
    "num = int(  input('sayı: ')  )\n",
    "\n",
    "if num > 0:\n",
    "    print('sayı pozitif')\n",
    "elif num < 0:\n",
    "    print('sayı negatif')\n",
    "else:\n",
    "    print('sayı sıfır')\n"
   ]
  },
  {
   "cell_type": "code",
   "execution_count": 110,
   "metadata": {},
   "outputs": [
    {
     "name": "stdout",
     "output_type": "stream",
     "text": [
      "parola yanlış\n"
     ]
    }
   ],
   "source": [
    "# iç içe if blokları\n",
    "username = 'bilal'\n",
    "password = '1234'\n",
    "\n",
    "if (username == 'bilal'):\n",
    "    if (password == '12345'):\n",
    "        print('Hoş geldiniz')\n",
    "    else:\n",
    "        print('parola yanlış')        \n",
    "else:\n",
    "    print('username yanlış')"
   ]
  },
  {
   "cell_type": "code",
   "execution_count": 111,
   "metadata": {},
   "outputs": [
    {
     "name": "stdout",
     "output_type": "stream",
     "text": [
      "username ya da parola yanlış\n"
     ]
    }
   ],
   "source": [
    "if (username == 'bilal') and (password == '12345'):\n",
    "        print('Hoş geldiniz')      \n",
    "else:\n",
    "    print('username ya da parola yanlış')"
   ]
  },
  {
   "cell_type": "markdown",
   "metadata": {},
   "source": [
    "## Döngüler"
   ]
  },
  {
   "cell_type": "code",
   "execution_count": 112,
   "metadata": {},
   "outputs": [
    {
     "name": "stdout",
     "output_type": "stream",
     "text": [
      "90\n",
      "91\n",
      "92\n",
      "93\n",
      "94\n",
      "95\n",
      "96\n",
      "97\n",
      "98\n",
      "99\n",
      "100\n"
     ]
    },
    {
     "data": {
      "text/plain": [
       "'bitti'"
      ]
     },
     "execution_count": 112,
     "metadata": {},
     "output_type": "execute_result"
    }
   ],
   "source": [
    "sayi=90\n",
    "while(sayi<101):\n",
    "    print(sayi)\n",
    "    sayi+=1 # sayi = sayi +1\n",
    "\"bitti\""
   ]
  },
  {
   "cell_type": "code",
   "execution_count": null,
   "metadata": {},
   "outputs": [],
   "source": [
    "while 1:\n",
    "    print(\"merhaba\")"
   ]
  },
  {
   "cell_type": "code",
   "execution_count": 113,
   "metadata": {},
   "outputs": [
    {
     "name": "stdout",
     "output_type": "stream",
     "text": [
      "apple\n",
      "banana\n",
      "cherry\n"
     ]
    }
   ],
   "source": [
    "meyveler = [\"apple\", \"banana\", \"cherry\"]\n",
    "for meyve in meyveler:\n",
    "    print(meyve)"
   ]
  },
  {
   "cell_type": "code",
   "execution_count": 116,
   "metadata": {},
   "outputs": [
    {
     "name": "stdout",
     "output_type": "stream",
     "text": [
      "apple\n",
      "banana\n"
     ]
    },
    {
     "data": {
      "text/plain": [
       "'burası çalışacak'"
      ]
     },
     "execution_count": 116,
     "metadata": {},
     "output_type": "execute_result"
    }
   ],
   "source": [
    "#  break\n",
    "fruits = [\"apple\", \"banana\", \"cherry\"]\n",
    "for x in fruits:\n",
    "    print(x)\n",
    "    if x == \"banana\":\n",
    "        break\n",
    "\"burası çalışacak\""
   ]
  },
  {
   "cell_type": "code",
   "execution_count": 117,
   "metadata": {},
   "outputs": [
    {
     "name": "stdout",
     "output_type": "stream",
     "text": [
      "apple\n",
      "cherry\n"
     ]
    }
   ],
   "source": [
    "# continue\n",
    "fruits = [\"apple\", \"banana\", \"cherry\"]\n",
    "for x in fruits:\n",
    "  if x == \"banana\":\n",
    "    continue\n",
    "  print(x)\n"
   ]
  },
  {
   "cell_type": "markdown",
   "metadata": {},
   "source": [
    "SORU : 1-100 arasındaki sayıları toplayan program. Aşağıdaki durumlarda sayıyı toplama eklemeyecek\n",
    "\n",
    "Sayı 7'nin katı ise toplama eklenmesin\n",
    "\n",
    "Sayı 11'in katı ise iki defa eklesin\n",
    "\n",
    "eğer her iki koşuluda karşılıyorsa döngü bitsin"
   ]
  },
  {
   "cell_type": "code",
   "execution_count": 118,
   "metadata": {},
   "outputs": [
    {
     "name": "stdout",
     "output_type": "stream",
     "text": [
      "2772\n"
     ]
    }
   ],
   "source": [
    "sayi = 1\n",
    "toplam = 0\n",
    "while sayi<=100:\n",
    "    if sayi%7==0 and sayi%11==0:\n",
    "        break\n",
    "    elif sayi%7==0:\n",
    "        pass\n",
    "    elif sayi%11==0:\n",
    "        toplam+=sayi*2\n",
    "    else:\n",
    "        toplam+=sayi\n",
    "    sayi+=1\n",
    "print(toplam)"
   ]
  },
  {
   "cell_type": "code",
   "execution_count": 119,
   "metadata": {},
   "outputs": [
    {
     "name": "stdout",
     "output_type": "stream",
     "text": [
      "2772\n"
     ]
    }
   ],
   "source": [
    "sayi = 1\n",
    "toplam=0\n",
    "while sayi<101:\n",
    "  if sayi % 7 ==0 and sayi % 11 == 0:\n",
    "    break\n",
    "  elif sayi % 7 == 0:\n",
    "    sayi+=1\n",
    "  elif sayi % 11 == 0:\n",
    "    toplam += sayi*2\n",
    "    sayi+=1\n",
    "  else:\n",
    "    toplam += sayi\n",
    "    sayi+=1\n",
    "  \n",
    "print(toplam)"
   ]
  },
  {
   "cell_type": "markdown",
   "metadata": {},
   "source": [
    "## Fonksiyonlar"
   ]
  },
  {
   "cell_type": "markdown",
   "metadata": {},
   "source": [
    "Yazdığımız bir python uygulamasındaki belli bir kod parçasını bir kaç yerde kullanma ihtiyacı duyduğumuzda fonksiyon oluşturmak işlerimizi kolaylaştırır. Böyle durumlarda sürekli kullanacak olduğumuz kod satırlarını fonksiyonlar içine alıp istediğimiz zaman çağırıp çalıştırabiliriz.\n",
    "\n",
    "Örneğin basit bir matematiksel işlem yapacağız ve bir çok yerde bu matematiksel işlemi tekrarlayacağız bu durumda bir fonksiyon oluşturup defalarca kullanabiliriz.\n",
    "\n",
    "Ayrıca işin daha güzel yani Python da hazır bir çok kütüphane var ve bu kütüphaneler içinde önceden oluşturulmuş bir sürü fonksiyon mevcut. Çoğu zaman fonksiyonun içeriğini yazmak yerine hazır olanını kullanabileceğiz. Örneğin gönderdiğimiz bir sayının karakökünü alan sqrt() fonksiyonu.\n"
   ]
  },
  {
   "cell_type": "code",
   "execution_count": 120,
   "metadata": {},
   "outputs": [],
   "source": [
    "def hello():\n",
    "    print(\"Merhaba\")"
   ]
  },
  {
   "cell_type": "code",
   "execution_count": 122,
   "metadata": {},
   "outputs": [
    {
     "name": "stdout",
     "output_type": "stream",
     "text": [
      "Merhaba\n",
      "Merhaba\n",
      "Merhaba\n",
      "Merhaba\n"
     ]
    }
   ],
   "source": [
    "hello()\n",
    "hello()\n",
    "hello()\n",
    "hello()"
   ]
  },
  {
   "cell_type": "code",
   "execution_count": 123,
   "metadata": {},
   "outputs": [
    {
     "name": "stdout",
     "output_type": "stream",
     "text": [
      "Merhaba Bilal\n",
      "Merhaba Yusuf\n",
      "Merhaba Ali\n"
     ]
    }
   ],
   "source": [
    "def hello(name):\n",
    "    print(\"Merhaba \"+ name)\n",
    "\n",
    "hello(\"Bilal\")\n",
    "hello(\"Yusuf\")\n",
    "hello(\"Ali\")"
   ]
  },
  {
   "cell_type": "code",
   "execution_count": 127,
   "metadata": {},
   "outputs": [
    {
     "data": {
      "text/plain": [
       "'Merhaba Bilal'"
      ]
     },
     "execution_count": 127,
     "metadata": {},
     "output_type": "execute_result"
    }
   ],
   "source": [
    "def hello(name):\n",
    "    return \"Merhaba \"+ name\n",
    "\n",
    "isim = hello(\"Bilal\")\n",
    "isim"
   ]
  },
  {
   "cell_type": "code",
   "execution_count": 128,
   "metadata": {},
   "outputs": [
    {
     "data": {
      "text/plain": [
       "30"
      ]
     },
     "execution_count": 128,
     "metadata": {},
     "output_type": "execute_result"
    }
   ],
   "source": [
    "def toplama(a,b):\n",
    "    return a+b\n",
    "\n",
    "sonuc = toplama(10,20)\n",
    "sonuc # 30"
   ]
  },
  {
   "cell_type": "code",
   "execution_count": 130,
   "metadata": {},
   "outputs": [
    {
     "name": "stdout",
     "output_type": "stream",
     "text": [
      "Merhaba\n",
      "Merhaba\n",
      "Merhaba\n",
      "Merhaba\n",
      "Merhaba\n",
      "Merhaba\n",
      "Merhaba\n",
      "Merhaba\n",
      "Merhaba\n",
      "Merhaba\n",
      "\n"
     ]
    }
   ],
   "source": [
    "def yazdir(kelime, adet):\n",
    "    print(kelime * adet)\n",
    "\n",
    "yazdir('Merhaba\\n', 10)"
   ]
  },
  {
   "cell_type": "code",
   "execution_count": 133,
   "metadata": {},
   "outputs": [
    {
     "name": "stdout",
     "output_type": "stream",
     "text": [
      "ab\n"
     ]
    }
   ],
   "source": [
    "print(\"a\",sep=\"-\",end=\"\")\n",
    "print(\"b\")"
   ]
  },
  {
   "cell_type": "markdown",
   "metadata": {},
   "source": [
    "Soru: Gönderilen 2 sayı arasındaki tüm asal sayıları bulan python fonksiyon uygulamasını yapınız."
   ]
  },
  {
   "cell_type": "code",
   "execution_count": 145,
   "metadata": {},
   "outputs": [],
   "source": [
    "def asal_kontol(a):\n",
    "    for i in range(2,a):\n",
    "        if a%i==0:return False\n",
    "    return True\n",
    "\n",
    "\n",
    "def asal(max,min = 3):\n",
    "    asallar =[]\n",
    "    for i in range(min,max):\n",
    "        if asal_kontol(i):asallar.append(i)\n",
    "    return asallar"
   ]
  },
  {
   "cell_type": "code",
   "execution_count": 149,
   "metadata": {},
   "outputs": [
    {
     "name": "stdout",
     "output_type": "stream",
     "text": [
      "[5, 7, 11, 13, 17]\n"
     ]
    }
   ],
   "source": [
    "print(asal(19,min=5))"
   ]
  },
  {
   "cell_type": "markdown",
   "metadata": {},
   "source": [
    "Bazen fonksiyonlara gönderdiğimiz parametreler yerine varsayılan değerleri kullanmak isteyebiliriz."
   ]
  },
  {
   "cell_type": "code",
   "execution_count": 141,
   "metadata": {},
   "outputs": [
    {
     "name": "stdout",
     "output_type": "stream",
     "text": [
      "I am from Sweden\n",
      "I am from India\n",
      "I am from Turkey\n",
      "I am from Brazil\n"
     ]
    }
   ],
   "source": [
    "# varsayılan/default değer atama\n",
    "def my_function(country = \"Turkey\"):\n",
    "  print(\"I am from \" + country)\n",
    "\n",
    "my_function(\"Sweden\")\n",
    "my_function(\"India\")\n",
    "my_function()\n",
    "my_function(\"Brazil\")\n"
   ]
  },
  {
   "cell_type": "markdown",
   "metadata": {},
   "source": [
    "Kendisine gönderilen değişken sayıdaki sayıları toplayan bir fonksiyon yazmak istediğimizde *params anahtar kelimesini kullanabiliriz. *params anahtar kelimesi birden fazla parametrenin yerini tutar."
   ]
  },
  {
   "cell_type": "code",
   "execution_count": null,
   "metadata": {},
   "outputs": [],
   "source": [
    "def toplama(a,b):\n",
    "    return a+b\n",
    "\n",
    "def toplama(a,b,c):\n",
    "    return a+b+c\n",
    "..."
   ]
  },
  {
   "cell_type": "code",
   "execution_count": 175,
   "metadata": {},
   "outputs": [],
   "source": [
    "def toplama(*params):   \n",
    "    print(type(params))  # <class 'tuple'>\n",
    "    sum = 0\n",
    "    for n in params:\n",
    "        sum += n\n",
    "    return sum\n"
   ]
  },
  {
   "cell_type": "code",
   "execution_count": 176,
   "metadata": {},
   "outputs": [
    {
     "name": "stdout",
     "output_type": "stream",
     "text": [
      "a değerimiz 80\n"
     ]
    },
    {
     "data": {
      "text/plain": [
       "''"
      ]
     },
     "execution_count": 176,
     "metadata": {},
     "output_type": "execute_result"
    }
   ],
   "source": [
    "a = toplama(10, 20, 50)\n",
    "print(f\"a değerimiz {a}\")\n",
    "\"\"\n",
    "# print(toplama(10, 20, 30))\n",
    "# print(toplama(10, 20, 30, 50, 60, 10, 20))"
   ]
  },
  {
   "cell_type": "markdown",
   "metadata": {},
   "source": [
    "Eğer ki **args şeklinde parametre belirtirsek bu durumda key-value şeklinde istediğimiz sayıda bilgiyi fonksiyona gönderebiliriz."
   ]
  },
  {
   "cell_type": "code",
   "execution_count": 158,
   "metadata": {},
   "outputs": [
    {
     "name": "stdout",
     "output_type": "stream",
     "text": [
      "key: name value: Çınar\n",
      "key: age value: 2\n",
      "key: city value: istanbul\n",
      "key: name value: Ada\n",
      "key: age value: 12\n",
      "key: city value: kocaeli\n",
      "key: phone value: 123132\n",
      "key: name value: Yiğit\n",
      "key: age value: 14\n",
      "key: city value: ankara\n",
      "key: phone value: 123132\n",
      "key: email value: yigit@gmail.com\n"
     ]
    }
   ],
   "source": [
    "def displayUser(**args):\n",
    "    # print(type(args))  # <class 'dict'>\n",
    "    for key, value in args.items():\n",
    "        print(f\"key: {key} value: {value}\")\n",
    "\n",
    "displayUser(name= 'Çınar', age = 2, city = 'istanbul')\n",
    "displayUser(name= 'Ada', age = 12, city = 'kocaeli', phone = '123132')\n",
    "displayUser(name= 'Yiğit', age = 14, city = 'ankara', phone = '123132', email= 'yigit@gmail.com')\n"
   ]
  },
  {
   "cell_type": "code",
   "execution_count": 159,
   "metadata": {},
   "outputs": [
    {
     "name": "stdout",
     "output_type": "stream",
     "text": [
      "10\n",
      "20\n",
      "30\n",
      "(40, 50, 60, 70)\n",
      "{'key1': 'value 1', 'key2': 'value 2'}\n"
     ]
    }
   ],
   "source": [
    "def myFunc(a, b, c, *args, **kwargs):\n",
    "    print(a)\n",
    "    print(b)\n",
    "    print(c)\n",
    "    print(args)\n",
    "    print(kwargs)\n",
    "\n",
    "myFunc(10, 20, 30, 40, 50, 60, 70, key1 = 'value 1', key2 = 'value 2')"
   ]
  },
  {
   "cell_type": "code",
   "execution_count": 162,
   "metadata": {},
   "outputs": [
    {
     "name": "stdout",
     "output_type": "stream",
     "text": [
      "4\n",
      "7\n",
      "7\n"
     ]
    }
   ],
   "source": [
    "# scope\n",
    "a=4\n",
    "def func():\n",
    "    global a\n",
    "    a=7\n",
    "    print(a)\n",
    "    \n",
    "print(a)\n",
    "func()\n",
    "print(a)\n",
    "\n"
   ]
  },
  {
   "cell_type": "code",
   "execution_count": 180,
   "metadata": {},
   "outputs": [
    {
     "data": {
      "text/plain": [
       "[1, 2, 3, 4]"
      ]
     },
     "execution_count": 180,
     "metadata": {},
     "output_type": "execute_result"
    }
   ],
   "source": [
    "dizi   \n",
    "a\n",
    "b\n",
    "c\n",
    "d\n",
    "\n",
    "dizi = [1,2,3,4]\n",
    "def func():\n",
    "    global dizi\n",
    "    dizi[1]=10\n",
    "    \n",
    "dizi"
   ]
  },
  {
   "cell_type": "markdown",
   "metadata": {},
   "source": [
    "Fonksiyonun okunabilirliğini arttırmak ve alınacak bazı hatalardan kaçınmak adına fonksiyonun alacağı ve döneceği veri tipini belirmek önemlidir. Veri tipini parametreden hemen sonra “:” koyup tipini yazarak belirtiriz. "
   ]
  },
  {
   "cell_type": "code",
   "execution_count": 167,
   "metadata": {},
   "outputs": [
    {
     "data": {
      "text/plain": [
       "3"
      ]
     },
     "execution_count": 167,
     "metadata": {},
     "output_type": "execute_result"
    }
   ],
   "source": [
    "def topla(a:int,b:int) -> int:\n",
    "    \"\"\"\n",
    "    bu fonksiyon iki tane sayı alır\n",
    "    \"\"\"\n",
    "    return a+b\n",
    "topla(1,2)"
   ]
  },
  {
   "cell_type": "code",
   "execution_count": 182,
   "metadata": {},
   "outputs": [
    {
     "data": {
      "text/plain": [
       "[1, 2, 3, 4, 5, 6]"
      ]
     },
     "execution_count": 182,
     "metadata": {},
     "output_type": "execute_result"
    }
   ],
   "source": [
    "def dizi_topla(a:list,b:list) -> list:\n",
    "    return a + b\n",
    "\n",
    "dizi_topla([1,2,3],[4,5,6])"
   ]
  },
  {
   "cell_type": "code",
   "execution_count": 168,
   "metadata": {},
   "outputs": [],
   "source": [
    "def topla(a:int,b:int = 5) -> int:\n",
    "    return a+b"
   ]
  },
  {
   "cell_type": "markdown",
   "metadata": {},
   "source": [
    "Bu örnekte de gördüğümüz gibi dışardan gelen parametrenin int veri tipinde olacağını ve fonksiyonun int veri tipinde bir değer döneceğini belirttik. Bu sayede yanlışlıkla yanlış bir veri tipi göndererek çalışma anında alınan hataların önüne geçmiş olduk. Aynı zamanda büyük bir projede kullanılan fonksiyonların hangi değerde veri alacağını yada döneceğini görmek için bulunduğu sayfaya gitme ihtiyacımız da kalmadı"
   ]
  },
  {
   "cell_type": "markdown",
   "metadata": {},
   "source": [
    "## Sınıflar"
   ]
  },
  {
   "cell_type": "markdown",
   "metadata": {},
   "source": [
    "Nesne tabanlı programlama yaklaşımı, özellikle birtakım ortak niteliklere ve davranış şekillerine sahip gruplar tanımlamak gerektiğinde son derece kullanışlıdır. Mesela şöyle bir örnek düşünün: Diyelim ki çalıştığınız işyerinde, işe alınan kişilerin kayıtlarını tutan bir veritabanınız var. Bir kişi işe alındığında, o kişiye dair belli birtakım bilgileri bu veritabanına işliyorsunuz. Mesela işe alınan kişinin adı, soyadı, unvanı, maaşı ve buna benzer başka bilgiler…"
   ]
  },
  {
   "cell_type": "code",
   "execution_count": 47,
   "metadata": {},
   "outputs": [],
   "source": [
    "class Çalışan:\n",
    "    pass\n"
   ]
  },
  {
   "cell_type": "markdown",
   "metadata": {},
   "source": [
    "Yukarıdaki, boş bir sınıf tanımıdır. Hatırlarsanız fonksiyonları tanımlamak için def adlı bir ifadeden yararlanıyorduk. İşte sınıfları tanımlamak için de class adlı bir ifadeden yararlanıyoruz. Bu ifadenin ardından gelen Çalışan kelimesi ise bu sınıfın adıdır.\n",
    "Eğer arzu ederseniz, yukarıdaki sınıfı şu şekilde de tanımlayabilirsiniz:\n"
   ]
  },
  {
   "cell_type": "code",
   "execution_count": 48,
   "metadata": {},
   "outputs": [],
   "source": [
    "class Çalışan():\n",
    "    pass"
   ]
  },
  {
   "cell_type": "code",
   "execution_count": 49,
   "metadata": {},
   "outputs": [
    {
     "name": "stdout",
     "output_type": "stream",
     "text": [
      "[]\n",
      "işçi\n"
     ]
    }
   ],
   "source": [
    "class Çalışan():\n",
    "    kabiliyetler = []\n",
    "    unvanı = 'işçi'\n",
    "\n",
    "    \n",
    "print(Çalışan.kabiliyetler)\n",
    "print(Çalışan.unvanı)\n"
   ]
  },
  {
   "cell_type": "code",
   "execution_count": 50,
   "metadata": {},
   "outputs": [
    {
     "name": "stdout",
     "output_type": "stream",
     "text": [
      "[]\n",
      "['ingilizce']\n"
     ]
    }
   ],
   "source": [
    "class Çalışan():\n",
    "    kabiliyetler = []\n",
    "    unvanı = 'işçi'\n",
    "    \n",
    "    def KabiliyetEkle(self,kabiliyet:str):\n",
    "        self.kabiliyetler.append(kabiliyet)\n",
    "\n",
    "çalışan1 = Çalışan()\n",
    "\n",
    "print(çalışan1.kabiliyetler)\n",
    "çalışan1.KabiliyetEkle(\"ingilizce\")\n",
    "print(çalışan1.kabiliyetler)"
   ]
  },
  {
   "cell_type": "code",
   "execution_count": 55,
   "metadata": {},
   "outputs": [
    {
     "name": "stdout",
     "output_type": "stream",
     "text": [
      "['ingilizce']\n",
      "[]\n"
     ]
    }
   ],
   "source": [
    "class Çalışan():\n",
    "    kabiliyetler = []\n",
    "    unvanı = 'işçi'\n",
    "    \n",
    "    def __init__(self,unvanı=\"işçi\",kabiliyetler=[]):\n",
    "        self.kabiliyetler = kabiliyetler\n",
    "        self.unvanı = unvanı \n",
    "    \n",
    "    def KabiliyetEkle(self,kabiliyet:str):\n",
    "        self.kabiliyetler.append(kabiliyet)\n",
    "\n",
    "çalışan1 = Çalışan(\"patron\",[\"ingilizce\"])\n",
    "çalışan2 = Çalışan(\"bakkal\")\n",
    "\n",
    "print(çalışan1.kabiliyetler)\n",
    "print(çalışan2.kabiliyetler)"
   ]
  },
  {
   "cell_type": "code",
   "execution_count": 12,
   "metadata": {},
   "outputs": [],
   "source": [
    "class Çalışan():\n",
    "    kabiliyetler = []\n",
    "    unvanı = 'işçi'\n",
    "    \n",
    "    def KabiliyetEkle(cls,kabiliyet:str):\n",
    "        cls.kabiliyetler.append(kabiliyet)\n",
    "\n",
    "çalışan = Çalışan()\n",
    "\n",
    "print(çalışan.kabiliyetler)\n",
    "çalışan.KabiliyetEkle(\"ingilizce\")\n",
    "print(çalışan.kabiliyetler)"
   ]
  },
  {
   "cell_type": "code",
   "execution_count": 57,
   "metadata": {},
   "outputs": [
    {
     "name": "stdout",
     "output_type": "stream",
     "text": [
      "ahmet oluşturuldu\n",
      "ali oluşturuldu\n"
     ]
    }
   ],
   "source": [
    "class Çalışan():\n",
    "    kabiliyetler = []\n",
    "    unvanı = 'işçi'\n",
    "    \n",
    "    def __init__(self,isim):\n",
    "        print(f\"{isim} oluşturuldu\")\n",
    "\n",
    "çalışan1 = Çalışan(\"ahmet\")\n",
    "çalışan2 = Çalışan(\"ali\")"
   ]
  },
  {
   "cell_type": "code",
   "execution_count": 64,
   "metadata": {},
   "outputs": [],
   "source": [
    "# öğrenci otomasyonu\n",
    "class Öğrenci():\n",
    "    isim=\"\"\n",
    "    soyad=\"\"\n",
    "    sınıf = 0\n",
    "    şube=\"\"\n",
    "    def __init__(self,isim:str,soyad:str,sınıf:int,şube:str):\n",
    "        self.isim = isim\n",
    "        self.soyad = soyad\n",
    "        self.sınıf = sınıf\n",
    "        self.şube = şube\n",
    "        \n",
    "    def tanıt(self):\n",
    "        print(f\"{self.isim} {self.soyad}\")\n"
   ]
  },
  {
   "cell_type": "code",
   "execution_count": 65,
   "metadata": {},
   "outputs": [
    {
     "name": "stdout",
     "output_type": "stream",
     "text": [
      "Ahmet şahin\n",
      "Mehmet şahin\n"
     ]
    }
   ],
   "source": [
    "ahmet = Öğrenci(\"Ahmet\",\"şahin\",8,\"a\")\n",
    "mehmet = Öğrenci(\"Mehmet\",\"şahin\",7,\"b\")\n",
    "ahmet.tanıt()\n",
    "mehmet.tanıt()"
   ]
  },
  {
   "cell_type": "markdown",
   "metadata": {},
   "source": [
    "## Dekoratörler ve İç İçe Fonksiyonlar"
   ]
  },
  {
   "cell_type": "markdown",
   "metadata": {},
   "source": [
    "Dekoratörler, temelde alınan parametreyi iç fonksiyona (wrapper) gönderen ve geriye de bu fonksiyonu döndüren fonksiyonlardır. İç fonksiyonları dekoratör yazmadığınız durumlarda da kullanabilirsiniz."
   ]
  },
  {
   "cell_type": "code",
   "execution_count": 3,
   "metadata": {},
   "outputs": [],
   "source": [
    "def add(x, y):\n",
    "    return x + y\n",
    "\n",
    "def call_function(func, *args):\n",
    "    return func(*args)\n",
    "\n",
    "call_function(add, 2, 3)"
   ]
  },
  {
   "cell_type": "markdown",
   "metadata": {},
   "source": [
    "##### Kapsülleme (Encapsulation)"
   ]
  },
  {
   "cell_type": "code",
   "execution_count": 70,
   "metadata": {},
   "outputs": [
    {
     "name": "stdout",
     "output_type": "stream",
     "text": [
      "24\n"
     ]
    }
   ],
   "source": [
    "def factorial(n: int):\n",
    "    assert type(n) == int\n",
    "    assert n >= 0\n",
    "\n",
    "    def fact(n):\n",
    "        if n <= 1:\n",
    "            return 1\n",
    "        return n * fact(n - 1)\n",
    "\n",
    "    return fact(n)\n",
    "\n",
    "print(factorial(4))"
   ]
  },
  {
   "cell_type": "markdown",
   "metadata": {},
   "source": [
    "### Dekoratör"
   ]
  },
  {
   "cell_type": "code",
   "execution_count": null,
   "metadata": {},
   "outputs": [],
   "source": [
    "# Yöntem 1:\n",
    "@decorator\n",
    "def func():\n",
    "    pass\n",
    "\n",
    "# Yöntem 2:\n",
    "def func():\n",
    "    pass\n",
    "    \n",
    "func = decorator(func)"
   ]
  },
  {
   "cell_type": "code",
   "execution_count": 71,
   "metadata": {},
   "outputs": [
    {
     "name": "stdout",
     "output_type": "stream",
     "text": [
      "Fonksiyon çalışacak...\n",
      "Fonksiyon çalıştı.\n",
      "fonksiyon bitti\n"
     ]
    }
   ],
   "source": [
    "def decorator(func):\n",
    "    def wrapper(*args, **kwargs):\n",
    "        print('Fonksiyon çalışacak...')\n",
    "        func()\n",
    "        print(\"fonksiyon bitti\")\n",
    "    return wrapper\n",
    "\n",
    "\n",
    "@decorator\n",
    "def myfunc():\n",
    "    print('Fonksiyon çalıştı.')\n",
    "\n",
    "\n",
    "myfunc()"
   ]
  },
  {
   "cell_type": "code",
   "execution_count": 77,
   "metadata": {},
   "outputs": [
    {
     "name": "stdout",
     "output_type": "stream",
     "text": [
      "çalıştı\n",
      "- [myfunc] fonksiyonu 2.864 saniye sürdü.\n"
     ]
    }
   ],
   "source": [
    "from time import time\n",
    "\n",
    "def time_it(func):\n",
    "    def wrapper(*args, **kwargs):\n",
    "        time_start = time()\n",
    "        result = func()\n",
    "        time_finish = time()\n",
    "\n",
    "        time_delta = time_finish - time_start\n",
    "        print(f'- [{func.__name__}] fonksiyonu {round(time_delta, 3)} saniye sürdü.')\n",
    "\n",
    "        return result\n",
    "\n",
    "    return wrapper\n",
    "\n",
    "@time_it\n",
    "def myfunc():\n",
    "    for i in range(100000000):pass\n",
    "    print(\"çalıştı\")\n",
    "    \n",
    "myfunc()"
   ]
  },
  {
   "cell_type": "code",
   "execution_count": 79,
   "metadata": {},
   "outputs": [],
   "source": [
    "class sleep:\n",
    "    def __init__(self, secs):\n",
    "        self.secs = secs\n",
    "\n",
    "    def __call__(self, func):\n",
    "        from functools import wraps\n",
    "\n",
    "        @wraps(func)\n",
    "        def wrapper(*args, **kwargs):\n",
    "            from time import sleep\n",
    "\n",
    "            sleep(self.secs)\n",
    "            return func(*args, **kwargs)\n",
    "\n",
    "        return wrapper"
   ]
  },
  {
   "cell_type": "code",
   "execution_count": 80,
   "metadata": {},
   "outputs": [
    {
     "name": "stdout",
     "output_type": "stream",
     "text": [
      "Hello World\n",
      "Hello Bilal\n"
     ]
    }
   ],
   "source": [
    "@sleep(3)\n",
    "def hello(name):\n",
    "    print(f'Hello {name}')\n",
    "\n",
    "\n",
    "hello('World')\n",
    "hello('Bilal')"
   ]
  },
  {
   "cell_type": "code",
   "execution_count": 81,
   "metadata": {},
   "outputs": [
    {
     "name": "stdout",
     "output_type": "stream",
     "text": [
      "Ahmet adlı kullanıcı oluşturuldu\n"
     ]
    }
   ],
   "source": [
    "@sleep(3)\n",
    "class User(object):\n",
    "    def __init__(self, name):\n",
    "        print(f\"{name} adlı kullanıcı oluşturuldu\")\n",
    "\n",
    "user = User('Ahmet')"
   ]
  },
  {
   "cell_type": "markdown",
   "metadata": {},
   "source": [
    "### Kalıtım"
   ]
  },
  {
   "cell_type": "code",
   "execution_count": 92,
   "metadata": {},
   "outputs": [
    {
     "name": "stdout",
     "output_type": "stream",
     "text": [
      "Ahmet şahin 20\n"
     ]
    }
   ],
   "source": [
    "class İnsan:\n",
    "    def __init__(self,ad,soyad,yaş):\n",
    "        self.ad= ad\n",
    "        self.soyad= soyad\n",
    "        self.yaş= yaş\n",
    "        \n",
    "    def bilgiVer(self):\n",
    "        print(self.ad + \" \" + self.soyad+ \" \"+ str(self.yaş))\n",
    "        \n",
    "Ahmet = İnsan(\"Ahmet\", \"şahin\", 20)\n",
    "\n",
    "Ahmet.bilgiVer()"
   ]
  },
  {
   "cell_type": "code",
   "execution_count": 93,
   "metadata": {},
   "outputs": [],
   "source": [
    "class Ögrenci(İnsan):\n",
    "    pass"
   ]
  },
  {
   "cell_type": "code",
   "execution_count": 95,
   "metadata": {},
   "outputs": [
    {
     "name": "stdout",
     "output_type": "stream",
     "text": [
      "Bilal Alpaslan 80\n"
     ]
    }
   ],
   "source": [
    "Bilal = Ögrenci(\"Bilal\",\"Alpaslan\", 80)\n",
    "Bilal.bilgiVer() "
   ]
  },
  {
   "cell_type": "code",
   "execution_count": 96,
   "metadata": {},
   "outputs": [],
   "source": [
    "class Ogrenci(İnsan):\n",
    "    sınıf = \"8\"\n",
    "        \n",
    "    def statüKontrol(self):\n",
    "        return self.sınıf"
   ]
  },
  {
   "cell_type": "code",
   "execution_count": 97,
   "metadata": {},
   "outputs": [
    {
     "name": "stdout",
     "output_type": "stream",
     "text": [
      "Bilal Alpaslan 80\n"
     ]
    },
    {
     "data": {
      "text/plain": [
       "'8'"
      ]
     },
     "execution_count": 97,
     "metadata": {},
     "output_type": "execute_result"
    }
   ],
   "source": [
    "Bilal = Ogrenci(\"Bilal\",\"Alpaslan\", 80)\n",
    "Bilal.bilgiVer()\n",
    "Bilal.statüKontrol()"
   ]
  },
  {
   "cell_type": "markdown",
   "metadata": {},
   "source": [
    "### Override"
   ]
  },
  {
   "cell_type": "code",
   "execution_count": 98,
   "metadata": {},
   "outputs": [],
   "source": [
    "class Ogrenci(İnsan):\n",
    "    statü = \"öğrenci\"\n",
    "    \n",
    "    def bilgiVer(self):\n",
    "        print(\"Merhaba, ben \" + self.ad + \" \" + self.soyad)\n",
    "        \n",
    "    def statüKontrol(self):\n",
    "        return self.statü"
   ]
  },
  {
   "cell_type": "code",
   "execution_count": 99,
   "metadata": {},
   "outputs": [
    {
     "name": "stdout",
     "output_type": "stream",
     "text": [
      "Ahmet şahin 20\n",
      "Merhaba, ben Bilal Alpaslan\n"
     ]
    }
   ],
   "source": [
    "Ahmet = İnsan(\"Ahmet\", \"şahin\", 20)\n",
    "Ahmet.bilgiVer()\n",
    "\n",
    "Bilal = Ogrenci(\"Bilal\",\"Alpaslan\", 80)\n",
    "Bilal.bilgiVer()"
   ]
  },
  {
   "cell_type": "markdown",
   "metadata": {},
   "source": [
    "### Override edilen fonksiyonu çağırma ve super() metodu"
   ]
  },
  {
   "cell_type": "code",
   "execution_count": 100,
   "metadata": {},
   "outputs": [],
   "source": [
    "class Ogrenci(İnsan):\n",
    "    statü = \"öğrenci\"\n",
    "    \n",
    "    def bilgiVer(self):\n",
    "        İnsan.bilgiVer(self)\n",
    "        print(\"Merhaba, ben \" + self.ad + \" \" + self.soyad)\n",
    "        \n",
    "    def statüKontrol(self):\n",
    "        return self.statü"
   ]
  },
  {
   "cell_type": "code",
   "execution_count": 101,
   "metadata": {},
   "outputs": [
    {
     "name": "stdout",
     "output_type": "stream",
     "text": [
      "Bilal Alpaslan 80\n",
      "Merhaba, ben Bilal Alpaslan\n"
     ]
    }
   ],
   "source": [
    "Bilal = Ogrenci(\"Bilal\",\"Alpaslan\", 80)\n",
    "Bilal.bilgiVer()"
   ]
  },
  {
   "cell_type": "code",
   "execution_count": 102,
   "metadata": {},
   "outputs": [],
   "source": [
    "class Ogrenci(İnsan):\n",
    "    statü = \"öğrenci\"\n",
    "    \n",
    "    def bilgiVer(self):\n",
    "        super().bilgiVer()\n",
    "        print(\"Merhaba, ben \" + self.ad + \" \" + self.soyad)\n",
    "        \n",
    "    def statüKontrol(self):\n",
    "        return self.statü"
   ]
  },
  {
   "cell_type": "code",
   "execution_count": 103,
   "metadata": {},
   "outputs": [
    {
     "name": "stdout",
     "output_type": "stream",
     "text": [
      "Bilal Alpaslan 80\n",
      "Merhaba, ben Bilal Alpaslan\n"
     ]
    }
   ],
   "source": [
    "Bilal = Ogrenci(\"Bilal\",\"Alpaslan\", 80)\n",
    "Bilal.bilgiVer()"
   ]
  },
  {
   "cell_type": "code",
   "execution_count": 147,
   "metadata": {},
   "outputs": [
    {
     "name": "stdout",
     "output_type": "stream",
     "text": [
      "[1, 2, 3, 4]\n",
      "[1, 3]\n"
     ]
    }
   ],
   "source": [
    "class Öğrenci():\n",
    "    \"\"\"\n",
    "    bu sınıf bir öğrenci sınıfını yönetmenizi sağlar\n",
    "    \n",
    "    \"\"\"\n",
    "    öğrenciler=[]\n",
    "    \n",
    "    def __init__(self,isim,soyad,sınıf,şube,no):\n",
    "        self.isim = isim\n",
    "        self.soyad = soyad\n",
    "        self.sınıf = sınıf\n",
    "        self.şube = şube\n",
    "        self.no = no\n",
    "        self.öğrenciler.append(self)\n",
    "    \n",
    "    def delete(cls,no:int):\n",
    "        for index,öğrenci in enumerate(cls.öğrenciler):\n",
    "            if öğrenci.no==no:\n",
    "                cls.öğrenciler.pop(index)\n",
    "    \n",
    "    def __str__(self):\n",
    "        return self.no\n",
    "    \n",
    "    def öğrencileriGetir(cls):\n",
    "        data = []\n",
    "        for öğrenci in cls.öğrenciler:\n",
    "            data.append(öğrenci.no)\n",
    "        return data\n",
    "        \n",
    "    \n",
    "\n",
    "ahmet = Öğrenci(\"Ahmet\",\"Şahin\",5,\"b\",1)\n",
    "ali = Öğrenci(\"Ali\",\"Şahin\",7,\"c\",2)\n",
    "ali = Öğrenci(\"Ayşe\",\"Şahin\",8,\"c\",3)\n",
    "ali = Öğrenci(\"Fatma\",\"Şahin\",1,\"c\",4)\n",
    "# print(Öğrenci.öğrenciler)\n",
    "\n",
    "print(ali.öğrencileriGetir())\n",
    "ali.delete(2)\n",
    "ali.delete(4)\n",
    "print(ali.öğrencileriGetir())\n"
   ]
  },
  {
   "cell_type": "markdown",
   "metadata": {},
   "source": [
    "### Assert ve Try catch ile hata yakalama "
   ]
  },
  {
   "cell_type": "code",
   "execution_count": 104,
   "metadata": {},
   "outputs": [],
   "source": [
    "assert 1 == 1"
   ]
  },
  {
   "cell_type": "code",
   "execution_count": 105,
   "metadata": {},
   "outputs": [
    {
     "ename": "AssertionError",
     "evalue": "",
     "output_type": "error",
     "traceback": [
      "\u001b[1;31m---------------------------------------------------------------------------\u001b[0m",
      "\u001b[1;31mAssertionError\u001b[0m                            Traceback (most recent call last)",
      "\u001b[1;32m~\\AppData\\Local\\Temp/ipykernel_21212/351952524.py\u001b[0m in \u001b[0;36m<module>\u001b[1;34m\u001b[0m\n\u001b[1;32m----> 1\u001b[1;33m \u001b[1;32massert\u001b[0m \u001b[1;36m1\u001b[0m \u001b[1;33m==\u001b[0m \u001b[1;36m0\u001b[0m\u001b[1;33m\u001b[0m\u001b[1;33m\u001b[0m\u001b[0m\n\u001b[0m",
      "\u001b[1;31mAssertionError\u001b[0m: "
     ]
    }
   ],
   "source": [
    "assert 1 == 0"
   ]
  },
  {
   "cell_type": "code",
   "execution_count": 107,
   "metadata": {
    "scrolled": true
   },
   "outputs": [
    {
     "ename": "Exception",
     "evalue": "hata",
     "output_type": "error",
     "traceback": [
      "\u001b[1;31m---------------------------------------------------------------------------\u001b[0m",
      "\u001b[1;31mException\u001b[0m                                 Traceback (most recent call last)",
      "\u001b[1;32m~\\AppData\\Local\\Temp/ipykernel_21212/3368744499.py\u001b[0m in \u001b[0;36m<module>\u001b[1;34m\u001b[0m\n\u001b[1;32m----> 1\u001b[1;33m \u001b[1;32mraise\u001b[0m \u001b[0mException\u001b[0m\u001b[1;33m(\u001b[0m\u001b[1;34m\"hata\"\u001b[0m\u001b[1;33m)\u001b[0m\u001b[1;33m\u001b[0m\u001b[1;33m\u001b[0m\u001b[0m\n\u001b[0m",
      "\u001b[1;31mException\u001b[0m: hata"
     ]
    }
   ],
   "source": [
    "raise Exception(\"hata\")"
   ]
  },
  {
   "cell_type": "code",
   "execution_count": 109,
   "metadata": {},
   "outputs": [
    {
     "ename": "TypeError",
     "evalue": "unsupported operand type(s) for +: 'int' and 'str'",
     "output_type": "error",
     "traceback": [
      "\u001b[1;31m---------------------------------------------------------------------------\u001b[0m",
      "\u001b[1;31mTypeError\u001b[0m                                 Traceback (most recent call last)",
      "\u001b[1;32m~\\AppData\\Local\\Temp/ipykernel_21212/3813695943.py\u001b[0m in \u001b[0;36m<module>\u001b[1;34m\u001b[0m\n\u001b[1;32m----> 1\u001b[1;33m \u001b[1;36m1\u001b[0m\u001b[1;33m+\u001b[0m\u001b[1;34m\"2\"\u001b[0m\u001b[1;33m\u001b[0m\u001b[1;33m\u001b[0m\u001b[0m\n\u001b[0m",
      "\u001b[1;31mTypeError\u001b[0m: unsupported operand type(s) for +: 'int' and 'str'"
     ]
    }
   ],
   "source": [
    "1+\"2\""
   ]
  },
  {
   "cell_type": "code",
   "execution_count": 118,
   "metadata": {},
   "outputs": [
    {
     "name": "stdout",
     "output_type": "stream",
     "text": [
      "bitiş\n"
     ]
    },
    {
     "ename": "ZeroDivisionError",
     "evalue": "division by zero",
     "output_type": "error",
     "traceback": [
      "\u001b[1;31m---------------------------------------------------------------------------\u001b[0m",
      "\u001b[1;31mZeroDivisionError\u001b[0m                         Traceback (most recent call last)",
      "\u001b[1;32m~\\AppData\\Local\\Temp/ipykernel_21212/2915882634.py\u001b[0m in \u001b[0;36m<module>\u001b[1;34m\u001b[0m\n\u001b[0;32m      1\u001b[0m \u001b[1;32mtry\u001b[0m\u001b[1;33m:\u001b[0m\u001b[1;33m\u001b[0m\u001b[1;33m\u001b[0m\u001b[0m\n\u001b[1;32m----> 2\u001b[1;33m     \u001b[0mprint\u001b[0m\u001b[1;33m(\u001b[0m\u001b[1;36m0\u001b[0m\u001b[1;33m/\u001b[0m\u001b[1;36m0\u001b[0m\u001b[1;33m)\u001b[0m\u001b[1;33m\u001b[0m\u001b[1;33m\u001b[0m\u001b[0m\n\u001b[0m\u001b[0;32m      3\u001b[0m \u001b[1;32mexcept\u001b[0m \u001b[0mTypeError\u001b[0m\u001b[1;33m:\u001b[0m\u001b[1;33m\u001b[0m\u001b[1;33m\u001b[0m\u001b[0m\n\u001b[0;32m      4\u001b[0m     \u001b[0mprint\u001b[0m\u001b[1;33m(\u001b[0m\u001b[1;34m\"bu bir tip hatası\"\u001b[0m\u001b[1;33m)\u001b[0m\u001b[1;33m\u001b[0m\u001b[1;33m\u001b[0m\u001b[0m\n\u001b[0;32m      5\u001b[0m \u001b[1;31m# except:\u001b[0m\u001b[1;33m\u001b[0m\u001b[1;33m\u001b[0m\u001b[1;33m\u001b[0m\u001b[0m\n",
      "\u001b[1;31mZeroDivisionError\u001b[0m: division by zero"
     ]
    }
   ],
   "source": [
    "try:\n",
    "    print(0/0)\n",
    "except TypeError:\n",
    "    print(\"bu bir tip hatası\")\n",
    "# except:\n",
    "#     print(\"başka bir hata\")\n",
    "finally:\n",
    "    print(\"bitiş\")"
   ]
  },
  {
   "cell_type": "markdown",
   "metadata": {},
   "source": [
    "TabError,SystemError,TypeError,IndexError,RuntimeError,ValueError,ZeroDivisionError"
   ]
  },
  {
   "cell_type": "markdown",
   "metadata": {},
   "source": [
    "# 8.10 a kadar mola"
   ]
  },
  {
   "cell_type": "markdown",
   "metadata": {},
   "source": [
    "### Properties"
   ]
  },
  {
   "cell_type": "code",
   "execution_count": 142,
   "metadata": {},
   "outputs": [
    {
     "data": {
      "text/plain": [
       "['__abs__',\n",
       " '__add__',\n",
       " '__and__',\n",
       " '__bool__',\n",
       " '__ceil__',\n",
       " '__class__',\n",
       " '__delattr__',\n",
       " '__dir__',\n",
       " '__divmod__',\n",
       " '__doc__',\n",
       " '__eq__',\n",
       " '__float__',\n",
       " '__floor__',\n",
       " '__floordiv__',\n",
       " '__format__',\n",
       " '__ge__',\n",
       " '__getattribute__',\n",
       " '__getnewargs__',\n",
       " '__gt__',\n",
       " '__hash__',\n",
       " '__index__',\n",
       " '__init__',\n",
       " '__init_subclass__',\n",
       " '__int__',\n",
       " '__invert__',\n",
       " '__le__',\n",
       " '__lshift__',\n",
       " '__lt__',\n",
       " '__mod__',\n",
       " '__mul__',\n",
       " '__ne__',\n",
       " '__neg__',\n",
       " '__new__',\n",
       " '__or__',\n",
       " '__pos__',\n",
       " '__pow__',\n",
       " '__radd__',\n",
       " '__rand__',\n",
       " '__rdivmod__',\n",
       " '__reduce__',\n",
       " '__reduce_ex__',\n",
       " '__repr__',\n",
       " '__rfloordiv__',\n",
       " '__rlshift__',\n",
       " '__rmod__',\n",
       " '__rmul__',\n",
       " '__ror__',\n",
       " '__round__',\n",
       " '__rpow__',\n",
       " '__rrshift__',\n",
       " '__rshift__',\n",
       " '__rsub__',\n",
       " '__rtruediv__',\n",
       " '__rxor__',\n",
       " '__setattr__',\n",
       " '__sizeof__',\n",
       " '__str__',\n",
       " '__sub__',\n",
       " '__subclasshook__',\n",
       " '__truediv__',\n",
       " '__trunc__',\n",
       " '__xor__',\n",
       " 'as_integer_ratio',\n",
       " 'bit_length',\n",
       " 'conjugate',\n",
       " 'denominator',\n",
       " 'from_bytes',\n",
       " 'imag',\n",
       " 'numerator',\n",
       " 'real',\n",
       " 'to_bytes']"
      ]
     },
     "execution_count": 142,
     "metadata": {},
     "output_type": "execute_result"
    }
   ],
   "source": [
    "dir(int)"
   ]
  },
  {
   "cell_type": "code",
   "execution_count": 143,
   "metadata": {},
   "outputs": [
    {
     "data": {
      "text/plain": [
       "['__class__',\n",
       " '__delattr__',\n",
       " '__dict__',\n",
       " '__dir__',\n",
       " '__doc__',\n",
       " '__eq__',\n",
       " '__format__',\n",
       " '__ge__',\n",
       " '__getattribute__',\n",
       " '__gt__',\n",
       " '__hash__',\n",
       " '__init__',\n",
       " '__init_subclass__',\n",
       " '__le__',\n",
       " '__lt__',\n",
       " '__module__',\n",
       " '__ne__',\n",
       " '__new__',\n",
       " '__reduce__',\n",
       " '__reduce_ex__',\n",
       " '__repr__',\n",
       " '__setattr__',\n",
       " '__sizeof__',\n",
       " '__str__',\n",
       " '__subclasshook__',\n",
       " '__weakref__',\n",
       " 'delete',\n",
       " 'öğrenciler',\n",
       " 'öğrencileriGetir']"
      ]
     },
     "execution_count": 143,
     "metadata": {},
     "output_type": "execute_result"
    }
   ],
   "source": [
    "dir(Öğrenci)"
   ]
  },
  {
   "cell_type": "code",
   "execution_count": 148,
   "metadata": {},
   "outputs": [
    {
     "data": {
      "text/plain": [
       "'\\n    bu sınıf bir öğrenci sınıfını yönetmenizi sağlar\\n    \\n    '"
      ]
     },
     "execution_count": 148,
     "metadata": {},
     "output_type": "execute_result"
    }
   ],
   "source": [
    "Öğrenci.__doc__"
   ]
  },
  {
   "cell_type": "markdown",
   "metadata": {},
   "source": [
    "## Jupyter notebook magic command"
   ]
  },
  {
   "cell_type": "code",
   "execution_count": 151,
   "metadata": {},
   "outputs": [
    {
     "name": "stdout",
     "output_type": "stream",
     "text": [
      "Wall time: 610 ms\n"
     ]
    }
   ],
   "source": [
    "%%time\n",
    "for i in range(10000000):pass #10M"
   ]
  },
  {
   "cell_type": "code",
   "execution_count": 152,
   "metadata": {},
   "outputs": [
    {
     "data": {
      "text/plain": [
       "[]"
      ]
     },
     "execution_count": 152,
     "metadata": {},
     "output_type": "execute_result"
    }
   ],
   "source": [
    "%dirs"
   ]
  },
  {
   "cell_type": "code",
   "execution_count": 153,
   "metadata": {},
   "outputs": [
    {
     "data": {
      "text/plain": [
       "{'ALLUSERSPROFILE': 'C:\\\\ProgramData',\n",
       " 'ANDROID_HOME': 'C:\\\\Users\\\\mbila\\\\AppData\\\\Local\\\\Android\\\\Sdk',\n",
       " 'ANDROID_SDK_ROOT': 'C:\\\\Users\\\\mbila\\\\AppData\\\\Local\\\\Android\\\\Sdk',\n",
       " 'APPDATA': 'C:\\\\Users\\\\mbila\\\\AppData\\\\Roaming',\n",
       " 'CARBON_MEM_DISABLE': '1',\n",
       " 'CHOCOLATEYINSTALL': 'C:\\\\ProgramData\\\\chocolatey',\n",
       " 'CHOCOLATEYLASTPATHUPDATE': '132650402320845136',\n",
       " 'CHOCOLATEYTOOLSLOCATION': 'C:\\\\tools',\n",
       " 'COMMONPROGRAMFILES': 'C:\\\\Program Files\\\\Common Files',\n",
       " 'COMMONPROGRAMFILES(X86)': 'C:\\\\Program Files (x86)\\\\Common Files',\n",
       " 'COMMONPROGRAMW6432': 'C:\\\\Program Files\\\\Common Files',\n",
       " 'COMPUTERNAME': 'BILAL',\n",
       " 'COMSPEC': 'C:\\\\WINDOWS\\\\system32\\\\cmd.exe',\n",
       " 'CONDA_DEFAULT_ENV': 'base',\n",
       " 'CONDA_EXE': 'C:\\\\Users\\\\mbila\\\\anaconda3\\\\Scripts\\\\conda.exe',\n",
       " 'CONDA_PROMPT_MODIFIER': '(base) ',\n",
       " 'CONDA_PYTHON_EXE': 'C:\\\\Users\\\\mbila\\\\anaconda3\\\\python.exe',\n",
       " 'CONDA_ROOT': 'C:\\\\Users\\\\mbila\\\\anaconda3',\n",
       " 'CONDA_SHLVL': '1',\n",
       " 'CUDA_PATH': 'C:\\\\Program Files\\\\NVIDIA GPU Computing Toolkit\\\\CUDA\\\\v11.2',\n",
       " 'CUDA_PATH_V10_1': 'C:\\\\Program Files\\\\NVIDIA GPU Computing Toolkit\\\\CUDA\\\\v10.1',\n",
       " 'CUDA_PATH_V11_2': 'C:\\\\Program Files\\\\NVIDIA GPU Computing Toolkit\\\\CUDA\\\\v11.2',\n",
       " 'DRIVERDATA': 'C:\\\\Windows\\\\System32\\\\Drivers\\\\DriverData',\n",
       " 'FPS_BROWSER_APP_PROFILE_STRING': 'Internet Explorer',\n",
       " 'FPS_BROWSER_USER_PROFILE_STRING': 'Default',\n",
       " 'GOPATH': 'C:\\\\Users\\\\mbila\\\\go',\n",
       " 'HOMEDRIVE': 'C:',\n",
       " 'HOMEPATH': '\\\\Users\\\\mbila',\n",
       " 'JAVA_HOME': 'C:\\\\Program Files\\\\Java\\\\jdk-15.0.1',\n",
       " 'LOCALAPPDATA': 'C:\\\\Users\\\\mbila\\\\AppData\\\\Local',\n",
       " 'LOGONSERVER': '\\\\\\\\BILAL',\n",
       " 'LSTC_LICENSE': 'ANSYS',\n",
       " 'NUMBER_OF_PROCESSORS': '16',\n",
       " 'NVCUDASAMPLES10_1_ROOT': 'C:\\\\ProgramData\\\\NVIDIA Corporation\\\\CUDA Samples\\\\v10.1',\n",
       " 'NVCUDASAMPLES11_2_ROOT': 'C:\\\\ProgramData\\\\NVIDIA Corporation\\\\CUDA Samples\\\\v11.2',\n",
       " 'NVCUDASAMPLES_ROOT': 'C:\\\\ProgramData\\\\NVIDIA Corporation\\\\CUDA Samples\\\\v11.2',\n",
       " 'NVIDIAWHITELISTED': '0x01',\n",
       " 'NVTOOLSEXT_PATH': 'C:\\\\Program Files\\\\NVIDIA Corporation\\\\NvToolsExt\\\\',\n",
       " 'ONEDRIVE': 'C:\\\\Users\\\\mbila\\\\OneDrive',\n",
       " 'ONEDRIVECONSUMER': 'C:\\\\Users\\\\mbila\\\\OneDrive',\n",
       " 'OS': 'Windows_NT',\n",
       " 'PATH': 'C:\\\\Users\\\\mbila\\\\anaconda3;C:\\\\Users\\\\mbila\\\\anaconda3\\\\Library\\\\mingw-w64\\\\bin;C:\\\\Users\\\\mbila\\\\anaconda3\\\\Library\\\\usr\\\\bin;C:\\\\Users\\\\mbila\\\\anaconda3\\\\Library\\\\bin;C:\\\\Users\\\\mbila\\\\anaconda3\\\\Scripts;C:\\\\Users\\\\mbila\\\\anaconda3\\\\bin;C:\\\\Users\\\\mbila\\\\anaconda3\\\\condabin;C:\\\\Users\\\\mbila\\\\anaconda3\\\\lib\\\\site-packages\\\\PyQt5\\\\Qt\\\\bin;C:\\\\Users\\\\mbila\\\\anaconda3;C:\\\\Users\\\\mbila\\\\anaconda3\\\\Library\\\\mingw-w64\\\\bin;C:\\\\Users\\\\mbila\\\\anaconda3\\\\Library\\\\usr\\\\bin;C:\\\\Users\\\\mbila\\\\anaconda3\\\\Library\\\\bin;C:\\\\Users\\\\mbila\\\\anaconda3\\\\Scripts;C:\\\\Program Files\\\\Python39\\\\Scripts;C:\\\\Program Files\\\\Python39;C:\\\\Program Files\\\\Python37\\\\Scripts;C:\\\\Program Files\\\\Python37;C:\\\\Program Files\\\\Common Files\\\\Oracle\\\\Java\\\\javapath;C:\\\\Program Files\\\\NVIDIA GPU Computing Toolkit\\\\CUDA\\\\v10.1\\\\bin;C:\\\\Program Files\\\\NVIDIA GPU Computing Toolkit\\\\CUDA\\\\v10.1\\\\libnvvp;C:\\\\Windows\\\\system32;C:\\\\Windows;C:\\\\Windows\\\\System32\\\\Wbem;C:\\\\Windows\\\\System32\\\\WindowsPowerShell\\\\v1.0;C:\\\\Windows\\\\System32\\\\OpenSSH;C:\\\\Program Files\\\\NVIDIA Corporation\\\\NVIDIA NvDLISR;C:\\\\Program Files\\\\dotnet;C:\\\\Program Files\\\\Microsoft SQL Server\\\\130\\\\Tools\\\\Binn;C:\\\\Program Files\\\\Microsoft SQL Server\\\\Client SDK\\\\ODBC\\\\170\\\\Tools\\\\Binn;C:\\\\src\\\\flutter\\\\bin;C:\\\\Program Files\\\\Git\\\\cmd;C:\\\\Program Files\\\\Java\\\\jdk-15.0.1\\\\bin;C:\\\\Program Files\\\\nodejs;C:\\\\Python27;C:\\\\Python27\\\\Scripts;C:\\\\Go\\\\bin;C:\\\\ProgramData\\\\chocolatey\\\\bin;C:\\\\Program Files\\\\Microsoft SQL Server\\\\Client SDK\\\\ODBC\\\\110\\\\Tools\\\\Binn;C:\\\\Program Files (x86)\\\\Microsoft SQL Server\\\\120\\\\Tools\\\\Binn;C:\\\\Program Files\\\\Microsoft SQL Server\\\\120\\\\Tools\\\\Binn;C:\\\\Program Files\\\\Microsoft SQL Server\\\\120\\\\DTS\\\\Binn;C:\\\\Program Files (x86)\\\\Windows Kits\\\\8.1\\\\Windows Performance Toolkit;C:\\\\Program Files\\\\Amazon\\\\AWSCLIV2;C:\\\\WINDOWS\\\\system32;C:\\\\WINDOWS;C:\\\\WINDOWS\\\\System32\\\\Wbem;C:\\\\WINDOWS\\\\System32\\\\WindowsPowerShell\\\\v1.0;C:\\\\WINDOWS\\\\System32\\\\OpenSSH;.;C:\\\\Program Files\\\\Docker\\\\Docker\\\\resources\\\\bin;C:\\\\ProgramData\\\\DockerDesktop\\\\version-bin;C:\\\\Users\\\\mbila\\\\AppData\\\\Local\\\\Android\\\\Sdk\\\\platform-tools;C:\\\\Users\\\\mbila\\\\AppData\\\\Local\\\\Android\\\\Sdk\\\\tools;C:\\\\Users\\\\mbila\\\\AppData\\\\Local\\\\python2\\\\scripts;C:\\\\Users\\\\mbila\\\\AppData\\\\Local\\\\python2;C:\\\\Users\\\\mbila\\\\anaconda3;C:\\\\Users\\\\mbila\\\\anaconda3\\\\Library\\\\mingw-w64\\\\bin;C:\\\\Users\\\\mbila\\\\anaconda3\\\\Library\\\\usr\\\\bin;C:\\\\Users\\\\mbila\\\\anaconda3\\\\Library\\\\bin;C:\\\\Users\\\\mbila\\\\anaconda3\\\\Scripts;C:\\\\Users\\\\mbila\\\\AppData\\\\Local\\\\Microsoft\\\\WindowsApps;C:\\\\Users\\\\mbila\\\\.dotnet\\\\tools;C:\\\\Users\\\\mbila\\\\AppData\\\\Local\\\\Programs\\\\Microsoft VS Code\\\\bin;C:\\\\Windows\\\\system32;C:\\\\Windows;C:\\\\Windows\\\\System32\\\\Wbem;C:\\\\Windows\\\\System32\\\\WindowsPowerShell\\\\v1.0;C:\\\\Windows\\\\System32\\\\OpenSSH;C:\\\\Program Files (x86)\\\\NVIDIA Corporation\\\\PhysX\\\\Common;C:\\\\Program Files\\\\NVIDIA Corporation\\\\NVIDIA NvDLISR;C:\\\\Program Files\\\\dotnet;C:\\\\Program Files\\\\Microsoft SQL Server\\\\130\\\\Tools\\\\Binn;C:\\\\Program Files\\\\Microsoft SQL Server\\\\Client SDK\\\\ODBC\\\\170\\\\Tools\\\\Binn;C:\\\\src\\\\flutter\\\\bin;C:\\\\Users\\\\mbila\\\\AppData\\\\Local\\\\GitHubDesktop\\\\bin;C:\\\\Users\\\\mbila\\\\AppDa;C:\\\\MinGW\\\\bin;C:\\\\;C:\\\\Users\\\\mbila\\\\go\\\\bin;C:\\\\Program Files\\\\heroku\\\\bin;C:\\\\Users\\\\mbila\\\\Downloads\\\\gradle-6.8.2-all\\\\gradle-6.8.2\\\\bin;C:\\\\Users\\\\mbila\\\\AppData\\\\Local\\\\hyper\\\\app-3.0.2\\\\resources\\\\bin;.',\n",
       " 'PATHEXT': '.COM;.EXE;.BAT;.CMD;.VBS;.VBE;.JS;.JSE;.WSF;.WSH;.MSC;.PY;.PYW',\n",
       " 'PROCESSOR_ARCHITECTURE': 'AMD64',\n",
       " 'PROCESSOR_IDENTIFIER': 'Intel64 Family 6 Model 165 Stepping 2, GenuineIntel',\n",
       " 'PROCESSOR_LEVEL': '6',\n",
       " 'PROCESSOR_REVISION': 'a502',\n",
       " 'PROGRAMDATA': 'C:\\\\ProgramData',\n",
       " 'PROGRAMFILES': 'C:\\\\Program Files',\n",
       " 'PROGRAMFILES(X86)': 'C:\\\\Program Files (x86)',\n",
       " 'PROGRAMW6432': 'C:\\\\Program Files',\n",
       " 'PROMPT': '(base) $P$G',\n",
       " 'PSMODULEPATH': 'C:\\\\Program Files\\\\WindowsPowerShell\\\\Modules;C:\\\\WINDOWS\\\\system32\\\\WindowsPowerShell\\\\v1.0\\\\Modules;C:\\\\Program Files (x86)\\\\Microsoft SQL Server\\\\120\\\\Tools\\\\PowerShell\\\\Modules\\\\',\n",
       " 'PUBLIC': 'C:\\\\Users\\\\Public',\n",
       " 'SESSIONNAME': 'Console',\n",
       " 'SHIM_MCCOMPAT': '0x810000001',\n",
       " 'SYSTEMDRIVE': 'C:',\n",
       " 'SYSTEMROOT': 'C:\\\\WINDOWS',\n",
       " 'TEMP': 'C:\\\\Users\\\\mbila\\\\AppData\\\\Local\\\\Temp',\n",
       " 'TMP': 'C:\\\\Users\\\\mbila\\\\AppData\\\\Local\\\\Temp',\n",
       " 'USERDOMAIN': 'BILAL',\n",
       " 'USERDOMAIN_ROAMINGPROFILE': 'BILAL',\n",
       " 'USERNAME': 'mbila',\n",
       " 'USERPROFILE': 'C:\\\\Users\\\\mbila',\n",
       " 'WINDIR': 'C:\\\\WINDOWS',\n",
       " 'ZES_ENABLE_SYSMAN': '1',\n",
       " '__COMPAT_LAYER': 'DetectorsShimLog',\n",
       " 'CONDA_PREFIX': 'C:\\\\Users\\\\mbila\\\\anaconda3',\n",
       " 'JPY_INTERRUPT_EVENT': '2560',\n",
       " 'IPY_INTERRUPT_EVENT': '2560',\n",
       " 'JPY_PARENT_PID': '1424',\n",
       " 'TERM': 'xterm-color',\n",
       " 'CLICOLOR': '1',\n",
       " 'PAGER': 'cat',\n",
       " 'GIT_PAGER': 'cat',\n",
       " 'MPLBACKEND': 'module://matplotlib_inline.backend_inline'}"
      ]
     },
     "execution_count": 153,
     "metadata": {},
     "output_type": "execute_result"
    }
   ],
   "source": [
    "%env"
   ]
  },
  {
   "cell_type": "code",
   "execution_count": 154,
   "metadata": {},
   "outputs": [
    {
     "data": {
      "text/plain": [
       "'C:\\\\Users\\\\mbila\\\\_JUPYTER_NOTEBOOK\\\\BAYES_PYTHON_EGİTİMİ'"
      ]
     },
     "execution_count": 154,
     "metadata": {},
     "output_type": "execute_result"
    }
   ],
   "source": [
    "%pwd"
   ]
  },
  {
   "cell_type": "markdown",
   "metadata": {},
   "source": [
    "## Kütüphaneler"
   ]
  },
  {
   "cell_type": "code",
   "execution_count": 155,
   "metadata": {},
   "outputs": [
    {
     "data": {
      "text/plain": [
       "4.0"
      ]
     },
     "execution_count": 155,
     "metadata": {},
     "output_type": "execute_result"
    }
   ],
   "source": [
    "import math\n",
    "\n",
    "math.sqrt(16)"
   ]
  },
  {
   "cell_type": "code",
   "execution_count": 159,
   "metadata": {},
   "outputs": [
    {
     "data": {
      "text/plain": [
       "datetime.datetime(2021, 9, 23, 20, 37, 17, 992859)"
      ]
     },
     "execution_count": 159,
     "metadata": {},
     "output_type": "execute_result"
    }
   ],
   "source": [
    "import datetime \n",
    "datetime.datetime.now()"
   ]
  },
  {
   "cell_type": "code",
   "execution_count": 160,
   "metadata": {},
   "outputs": [
    {
     "data": {
      "text/plain": [
       "datetime.datetime(2021, 9, 23, 20, 37, 19, 839431)"
      ]
     },
     "execution_count": 160,
     "metadata": {},
     "output_type": "execute_result"
    }
   ],
   "source": [
    "from datetime import datetime as dt\n",
    "dt.now()"
   ]
  },
  {
   "cell_type": "code",
   "execution_count": 163,
   "metadata": {},
   "outputs": [
    {
     "data": {
      "text/plain": [
       "21"
      ]
     },
     "execution_count": 163,
     "metadata": {},
     "output_type": "execute_result"
    }
   ],
   "source": [
    "import random\n",
    "random.randint(0,100)"
   ]
  },
  {
   "cell_type": "code",
   "execution_count": 164,
   "metadata": {},
   "outputs": [
    {
     "data": {
      "text/plain": [
       "'nt'"
      ]
     },
     "execution_count": 164,
     "metadata": {},
     "output_type": "execute_result"
    }
   ],
   "source": [
    "import os\n",
    "os.name"
   ]
  },
  {
   "cell_type": "code",
   "execution_count": 165,
   "metadata": {},
   "outputs": [
    {
     "name": "stdout",
     "output_type": "stream",
     "text": [
      "Hoşgeldin Windows kullanıcısı!\n"
     ]
    }
   ],
   "source": [
    "if os.name != 'nt':\n",
    "    print(\"windows bulunamadı\")\n",
    "else:\n",
    "    print('Hoşgeldin Windows kullanıcısı!')"
   ]
  },
  {
   "cell_type": "code",
   "execution_count": 8,
   "metadata": {},
   "outputs": [
    {
     "data": {
      "text/plain": [
       "array([[ 0,  1,  2,  3,  4],\n",
       "       [ 5,  6,  7,  8,  9],\n",
       "       [10, 11, 12, 13, 14]])"
      ]
     },
     "execution_count": 8,
     "metadata": {},
     "output_type": "execute_result"
    }
   ],
   "source": [
    "import numpy as np\n",
    "np.arange(15).reshape(3, 5)"
   ]
  },
  {
   "cell_type": "code",
   "execution_count": 166,
   "metadata": {},
   "outputs": [
    {
     "data": {
      "text/plain": [
       "<Response [200]>"
      ]
     },
     "execution_count": 166,
     "metadata": {},
     "output_type": "execute_result"
    }
   ],
   "source": [
    "import requests\n",
    "requests.get('https://api.github.com')"
   ]
  },
  {
   "cell_type": "markdown",
   "metadata": {},
   "source": [
    "### Python ile yapabileceklerimiz ve yardımcı kütüphaneler/frameworkler\n",
    "#### Web/api\n",
    "- django\n",
    "- fastapi\n",
    "- starlette\n",
    "- flask\n",
    "- bottle\n",
    "- pyramid\n",
    "- tornado (şuan kullandığımız jupyter notebook editörü bu framework ile yapıldı)\n",
    "\n",
    "#### Masaüstü uygulaması\n",
    "- PyQT\n",
    "- Tkinter\n",
    "- WxPython\n",
    "- PyGui\n",
    "- Pyside\n",
    "- kivy\n",
    "- PySimpleGUI\n",
    "\n",
    "#### Mobil uygulama\n",
    "- kivy\n",
    "- beeWare\n",
    "\n",
    "#### Oyun geliştirme\n",
    "- pygame\n",
    "- Cocos2d\n",
    "- panda3d\n",
    "- ursina\n",
    "\n",
    "#### Robotik ve gömülü sistemler\n",
    "- gpio\n",
    "- robot framework\n",
    "- pyro\n",
    "- micropython !\n",
    "\n",
    "#### Veri bilimi\n",
    "- Scikit-learn\n",
    "- Matplotlib\n",
    "- SciPy\n",
    "- pandas\n",
    "- numpy\n",
    "- seaborn\n",
    "\n",
    "#### Veri kazıma\n",
    "- requests\n",
    "- lxml\n",
    "- Beautiful Soup\n",
    "- selenium\n",
    "- Scrapy\n",
    "\n",
    "#### Makine öğrenmesi ve derin öğrenme\n",
    "- TensorFlow\n",
    "- Keras\n",
    "- PyTorch\n",
    "- coffee\n",
    "- openCV\n",
    "- NLTK\n",
    "- Numpy\n",
    "- Pandas\n",
    "- Scipy\n",
    "- Scikit-learn\n",
    "- Theano\n",
    "- Matplotlib\n",
    "- Seaborn\n",
    "\n",
    "#### ve fazlası\n",
    "- pydantic\n",
    "- icecream\n",
    "- pytest\n",
    "- pillow\n",
    "- SQLalchemy\n",
    "- Tortoise Orm\n",
    "- qiskit\n",
    "- typer\n",
    "- strawberry\n",
    "- numba\n",
    "- brython\n",
    "- pygrpc\n",
    "\n",
    "\n",
    "- cpython (cython)\n",
    "- jython\n",
    "- IronPython"
   ]
  },
  {
   "cell_type": "code",
   "execution_count": null,
   "metadata": {},
   "outputs": [],
   "source": []
  }
 ],
 "metadata": {
  "kernelspec": {
   "display_name": "Python 3",
   "language": "python",
   "name": "python3"
  },
  "language_info": {
   "codemirror_mode": {
    "name": "ipython",
    "version": 3
   },
   "file_extension": ".py",
   "mimetype": "text/x-python",
   "name": "python",
   "nbconvert_exporter": "python",
   "pygments_lexer": "ipython3",
   "version": "3.8.3"
  }
 },
 "nbformat": 4,
 "nbformat_minor": 4
}
