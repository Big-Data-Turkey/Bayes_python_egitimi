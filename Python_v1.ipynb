{
  "nbformat": 4,
  "nbformat_minor": 0,
  "metadata": {
    "colab": {
      "name": "Python_v1.ipynb",
      "provenance": [],
      "collapsed_sections": [
        "hNRIM0tGApaW",
        "MAJ4JjbGDRim",
        "TkTFHDkMLaQ4",
        "KyBCJTvhLnd1",
        "Cq9w-TSmR7OV",
        "nK-7JFhFTTdv",
        "EMlZGMGvUYqy",
        "LESLchtBUpem"
      ],
      "toc_visible": true,
      "authorship_tag": "ABX9TyOGAiLeng/UyPHaHraba5N9",
      "include_colab_link": true
    },
    "kernelspec": {
      "name": "python3",
      "display_name": "Python 3"
    },
    "language_info": {
      "name": "python"
    }
  },
  "cells": [
    {
      "cell_type": "markdown",
      "metadata": {
        "id": "view-in-github",
        "colab_type": "text"
      },
      "source": [
        "<a href=\"https://colab.research.google.com/github/Big-Data-Turkey/Bayes_python_egitimi/blob/master/Python_v1.ipynb\" target=\"_parent\"><img src=\"https://colab.research.google.com/assets/colab-badge.svg\" alt=\"Open In Colab\"/></a>"
      ]
    },
    {
      "cell_type": "markdown",
      "metadata": {
        "id": "-czQM3KWAW5A"
      },
      "source": [
        "## Programlama Nedir ?\n",
        "\n",
        "Programlama kısaca, bilgisayara ne yapması gerektiğini söylemektir. Bilgisayar tek başına anlam ifade etmez, ona ne yapması gerektiğini, nasıl davranması gerektiğini siz gösterirsiniz.  Bilgisayar diyince aklınıza sadece Dizüstü Masaüstü bilgisayarlar gelmesin. Hesap Makinesi bile bir bilgisayardır.\n",
        "\n",
        "Programlama yaparken yazdığınız sözcüklerin (kodların) bütününe de yazılım denir. Yazılım kullanıcı ile bilgisayar arasında iletişim kurmayı sağlar.\n",
        " \n",
        "## Programlama Nasıl Yapılır ?\n",
        "\n",
        "Programlama geçmişten günümüze sürekli geliştirilerek gelmiştir ve hala da gelişmektedir. Her geçen gün işlerimizi kolaylaştıran diller, kütüphaneler ortaya çıkıyor.  Programlama yapabilmek, program yazabilmek için Bazı programlama dillerine ihtiyaç duyarız.\n",
        "Programlama Dilleri\n",
        "\n",
        "Programlama dilleri, program yazarken kullandığımız söz dizimleridir. Farklı programlama dilleri vardır, geçmişten günümüze sürekli farklı programlama dilleri geliştirilmiştir.\n",
        "Yani programı, herhangi bir programlama diliyle yazabilirsiniz. Mantık olarak hepsi aynıdır, yazımlarında farklılıklar vardır o kadar. Örnek olarak: csharp, visual basic, java, c, c++, python.. programlama dillerinden sadece bazıları.. Daha çok sayıda programlama dili vardır ve hepsi ihtiyaçlara göre farklı alanlarda kullanılır. Örneğin bazıları yazarken kolaylık sağlar bazıları hızda kolaylık sağlar vs.. Tüm hepsini bilmemize gerek yok. Sadece bir tanesini bilseniz yeterli.\n"
      ]
    },
    {
      "cell_type": "markdown",
      "metadata": {
        "id": "VxkmFFL0AlD6"
      },
      "source": [
        "## Python Nedir Neler Yapılabilir?\n",
        "\n",
        "Python son zamanların en popüler programlama dillerinden biridir. Python programlama dili makine öğrenimi, sistem otomasyonları, web ve API’lerini geliştirme, bot sistemleri, yapay zeka, veri bilimi ve veri işleme gibi konular için temel yapıdadır.\n",
        "\n",
        "makine öğrenimi veya veri analizi denildiğinde ilk akla gelen programlama dillerinden biri olmayı başarmış ve gün geçtikçe ününü daha da büyütmeye devam etmiştir.\n",
        "\n",
        "## Python Programlama Dilinin Avantajları\n",
        "\n",
        "Python Programlama Dilinin Kullanımı ve Öğrenimi Çok Basit.\n",
        "\n",
        "Python syntaxı (söz dizimi) hem rahat okunabilir hem de ileriyi hedefleyen bir yapıdadır. Python programlama dilinin öğrenimi, kararlı yapısı sayesinde oldukça basittir.\n",
        "\n",
        "Yazılıma yeni başlayanlara en ideal ve basit dil olarak görüldüğü için Python programlama dili önerilir. Sadede gelecek olursak, Python programlama dili yazılıma yeni başlayan herkes için hızlı ve basit bir şekilde ilerlemeyi sağlar. Diğer programlama dillerine göre söz konusu basitlik olduğunda Python diğer programlama dillerine nazaran iki adım daha öndedir.\n",
        "\n",
        "Python,  yazılımcılar arasında oldukça popüler ve oldukça yaygın bir programlama dilidir. Github projelerinin çoğunda Python yazılım dili kullanılmıştır. Stackoverflow ve Github gibi programcıların genel olarak gezdikleri programlama örnek sıralama sistemlerinde, Python dili en üst sıralarda yer almaktadır.\n",
        "\n",
        "Kullanım alanlarını anlatacak olursak, en küçük işletim sistemlerinden en büyük işletim sistemlerine kadar neredeyse bütün OS tarafından desteklenir. İnternette bulunan birçok kütüphane ve API servislerinin kesinlikle Python tabanlı bindings veya wrappers’ları bulunmaktadır. Bunun sayesinde Python, servislerle serbest bir şekilde arayüz oluşturur veya kütüphaneler doğrudan kullanılır.\n",
        "\n",
        "## Makine Öğreniminde Python’un Yeri ve Veri Bilimi\n",
        "\n",
        "Karmaşık veri analizleri günümüz IT için önemli bir konu haline gelmiştir. Python bu durumlarda en kullanışlı programlama dilidir. Python kütüphanelerinin çoğu veri bilimi ve makine öğrenimi konularında gayet kullanışlıdır. Bu alandaki kütüphanelerde bulunan yüksek kaliteli komutlar, makine öğrenimi kütüphanelerinin ve diğer algoritma kütüphanelerinin sürekli gelişmesinde büyük katkı sağlamıştır.\n"
      ]
    },
    {
      "cell_type": "markdown",
      "metadata": {
        "id": "hNRIM0tGApaW"
      },
      "source": [
        "## Çalışma Ortamları\n"
      ]
    },
    {
      "cell_type": "markdown",
      "metadata": {
        "id": "5_AbpeybMqxZ"
      },
      "source": [
        "- python(resmi python ortamı)\n",
        "- conda\n",
        "- google colab"
      ]
    },
    {
      "cell_type": "markdown",
      "metadata": {
        "id": "MAJ4JjbGDRim"
      },
      "source": [
        "## Print fonksiyonu"
      ]
    },
    {
      "cell_type": "markdown",
      "metadata": {
        "id": "-2FUOttSMk3L"
      },
      "source": [
        "\n",
        "print python öğrenirken en çok kullanıcağımız fonksiyondur. İçine girilen değeri yazdırır"
      ]
    },
    {
      "cell_type": "code",
      "metadata": {
        "id": "896Bj41qKu9j"
      },
      "source": [
        "print(\"merhaba\")"
      ],
      "execution_count": null,
      "outputs": []
    },
    {
      "cell_type": "code",
      "metadata": {
        "id": "t1zQzkeNKz2S"
      },
      "source": [
        "\"merhaba\""
      ],
      "execution_count": null,
      "outputs": []
    },
    {
      "cell_type": "code",
      "metadata": {
        "id": "CZiwE8fdLI_B"
      },
      "source": [
        "5"
      ],
      "execution_count": null,
      "outputs": []
    },
    {
      "cell_type": "code",
      "metadata": {
        "id": "RYqSI-GWLKBQ"
      },
      "source": [
        "3+5"
      ],
      "execution_count": null,
      "outputs": []
    },
    {
      "cell_type": "code",
      "metadata": {
        "id": "t6GB6pZlLMao"
      },
      "source": [
        "9/5"
      ],
      "execution_count": null,
      "outputs": []
    },
    {
      "cell_type": "code",
      "metadata": {
        "id": "zN26vgYHLN01"
      },
      "source": [
        "11//3"
      ],
      "execution_count": null,
      "outputs": []
    },
    {
      "cell_type": "code",
      "metadata": {
        "id": "FnJcvHvDLO1x"
      },
      "source": [
        "11%3"
      ],
      "execution_count": null,
      "outputs": []
    },
    {
      "cell_type": "code",
      "metadata": {
        "id": "jLfRibTxLRqG"
      },
      "source": [
        "2*5"
      ],
      "execution_count": null,
      "outputs": []
    },
    {
      "cell_type": "code",
      "metadata": {
        "id": "WUQZQcNfLTFV"
      },
      "source": [
        "2**5"
      ],
      "execution_count": null,
      "outputs": []
    },
    {
      "cell_type": "code",
      "metadata": {
        "id": "QlyzouFzLUrz"
      },
      "source": [
        "a=5\n",
        "b=2\n",
        "a+b"
      ],
      "execution_count": null,
      "outputs": []
    },
    {
      "cell_type": "markdown",
      "metadata": {
        "id": "TkTFHDkMLaQ4"
      },
      "source": [
        "## Değişkenler"
      ]
    },
    {
      "cell_type": "code",
      "metadata": {
        "id": "oOKzmFpOLcHi"
      },
      "source": [
        "tamSayi = 5\n",
        "ondalikli_sayi = 3.2\n",
        "metin = \"merhaba\"\n",
        "liste = [1,1,3.2,\"elma\",\"armut\"]\n",
        "dogru_yanlis = True\n",
        "sozluk = {\"elma\":\"apple\",\"muz\":\"banana\"}"
      ],
      "execution_count": null,
      "outputs": []
    },
    {
      "cell_type": "code",
      "metadata": {
        "id": "nrlyP8W5LeMP"
      },
      "source": [
        "type(tamSayi)"
      ],
      "execution_count": null,
      "outputs": []
    },
    {
      "cell_type": "markdown",
      "metadata": {
        "id": "KyBCJTvhLnd1"
      },
      "source": [
        "### Standart Veri Tipleri\n"
      ]
    },
    {
      "cell_type": "markdown",
      "metadata": {
        "id": "fEdayHLxMgbg"
      },
      "source": [
        "Programların çalışmasında farklı amaçlar için farklı türlerde verilere ihtiyaç duyarız. Örneğin cinsiyet durumu için true/false, isim için string yada yaş bilgisi için int türünde verir.\n",
        "\n",
        "Python birçok veri tipi içermektedir. Bunlardan bazıları:\n",
        "\n",
        "\tİnt\n",
        "    Float\n",
        "\tString\n",
        "\tList\n",
        "\tTupple\n",
        "    Dictionary\n"
      ]
    },
    {
      "cell_type": "code",
      "metadata": {
        "id": "xhlHVam1Luoy"
      },
      "source": [
        ""
      ],
      "execution_count": 1,
      "outputs": []
    },
    {
      "cell_type": "markdown",
      "metadata": {
        "id": "Cq9w-TSmR7OV"
      },
      "source": [
        "### Değişken isimlendirme kuralları\n"
      ]
    },
    {
      "cell_type": "markdown",
      "metadata": {
        "id": "TYSipbWvSgvv"
      },
      "source": [
        "Değişken isimlerini açık ve anlaşılır yazmak işinize gelir.büyük bir kod yazarken “a” değişkeni yerine “sayi” adlı değişken daha açıklayıcı ve sade olur.\n",
        "\n",
        "Değişken isimleri hem harf hem sayı içerebilir. Fakat mutlaka harfle başlamalıdır"
      ]
    },
    {
      "cell_type": "code",
      "metadata": {
        "id": "YH91ENUFR-Ir"
      },
      "source": [
        "34python = \"algoritma\""
      ],
      "execution_count": null,
      "outputs": []
    },
    {
      "cell_type": "code",
      "metadata": {
        "id": "1EBZOqIWSnz6"
      },
      "source": [
        "python34 = \"algoritma\""
      ],
      "execution_count": null,
      "outputs": []
    },
    {
      "cell_type": "markdown",
      "metadata": {
        "id": "N5-YXa16Sybr"
      },
      "source": [
        "Değişkenlerin içinde alt çizgi karakteri (“_”) \n",
        "\n",
        "*   Liste öğesi\n",
        "*   Liste öğesi\n",
        "\n",
        "kullanabilirsiniz."
      ]
    },
    {
      "cell_type": "code",
      "metadata": {
        "id": "4VGCRrvTSyy5"
      },
      "source": [
        "demet = 0,3256,1,2\n",
        "demet"
      ],
      "execution_count": null,
      "outputs": []
    },
    {
      "cell_type": "code",
      "metadata": {
        "id": "8Lrb5QJFS087"
      },
      "source": [
        "virgullu_sayi = 0.3256\n",
        "virgullu_sayi"
      ],
      "execution_count": null,
      "outputs": []
    },
    {
      "cell_type": "markdown",
      "metadata": {
        "id": "dCusuUeKS2o0"
      },
      "source": [
        "Değişken isimleri büyük-küçük harf duyarlıdır.\n",
        "\"Sayi\" degişkeni ile \"sayi\" degişkeni aynı değildir"
      ]
    },
    {
      "cell_type": "code",
      "metadata": {
        "id": "AMsUws02S4iB"
      },
      "source": [
        "a=5\n",
        "A=4\n",
        "a,A"
      ],
      "execution_count": null,
      "outputs": []
    },
    {
      "cell_type": "markdown",
      "metadata": {
        "id": "jKgtbh12S7qH"
      },
      "source": [
        "'”`;,<>/?|\\/()!@#$%^&*~-+  gibi karakterler değişken isimlerinde bulunamazlar"
      ]
    },
    {
      "cell_type": "code",
      "metadata": {
        "id": "t3XG74GnS8DI"
      },
      "source": [
        "s@yı = 5"
      ],
      "execution_count": null,
      "outputs": []
    },
    {
      "cell_type": "code",
      "metadata": {
        "id": "f-wU3xLqS9f8"
      },
      "source": [
        "kişi.com = \"ahmet\""
      ],
      "execution_count": null,
      "outputs": []
    },
    {
      "cell_type": "markdown",
      "metadata": {
        "id": "O_XP1qLRS_bb"
      },
      "source": [
        "Değişkenlere isim verirken anahtar kelimeler kullanamazsınız"
      ]
    },
    {
      "cell_type": "code",
      "metadata": {
        "id": "8hsdLCy8TB6J"
      },
      "source": [
        "and = \"and adında degişken\""
      ],
      "execution_count": null,
      "outputs": []
    },
    {
      "cell_type": "markdown",
      "metadata": {
        "id": "FnpqFg7UTEx7"
      },
      "source": [
        "Python'da kullanılan tüm anahtar kelimeler:"
      ]
    },
    {
      "cell_type": "code",
      "metadata": {
        "id": "Ju0v90OATKBB"
      },
      "source": [
        "import keyword\n",
        "keyword.kwlist"
      ],
      "execution_count": null,
      "outputs": []
    },
    {
      "cell_type": "markdown",
      "metadata": {
        "id": "ydlVqHX4TP3d"
      },
      "source": [
        ""
      ]
    },
    {
      "cell_type": "markdown",
      "metadata": {
        "id": "nK-7JFhFTTdv"
      },
      "source": [
        "## Operatörler"
      ]
    },
    {
      "cell_type": "markdown",
      "metadata": {
        "id": "eQjrwUBTTmqr"
      },
      "source": [
        "### Matematik Operatörleri"
      ]
    },
    {
      "cell_type": "code",
      "metadata": {
        "id": "ZkyVGvd1TcVB"
      },
      "source": [
        "# Atama / işlemli atam operatoru (=)\n",
        "sayi=5\n",
        "sayi=7\n",
        "sayi = sayi+2\n",
        "sayi"
      ],
      "execution_count": null,
      "outputs": []
    },
    {
      "cell_type": "code",
      "metadata": {
        "id": "rn5JT4M4Tj_3"
      },
      "source": [
        "sayi+=2 # sayi = sayi+2\n",
        "sayi-=2 # sayi = sayi-2\n",
        "sayi*=2 # sayi = sayi*2\n",
        "print(sayi) # 18\n",
        "\n",
        "sayi/=2 # sayi = sayi/2\n",
        "print(sayi) # 9.0\n",
        "\n",
        "sayi=10\n",
        "sayi/=3\n",
        "print(sayi)\n",
        "\n",
        "# bölme işleminde ondalık kısmı yok edip sadece tam sayıyı alma\n",
        "sayi=10\n",
        "sayi//=3\n",
        "print(sayi)"
      ],
      "execution_count": null,
      "outputs": []
    },
    {
      "cell_type": "markdown",
      "metadata": {
        "id": "tfKSaV8yTuTR"
      },
      "source": [
        "### Karşılaştırma Operatörleri"
      ]
    },
    {
      "cell_type": "markdown",
      "metadata": {
        "id": "iQIbAoKdT2h0"
      },
      "source": [
        "== ,> ,<= karşılaştırma operatörlerinden bazılarıdır"
      ]
    },
    {
      "cell_type": "code",
      "metadata": {
        "id": "uGYomziSTy5Z"
      },
      "source": [
        "sayi1=8\n",
        "sayi2=4\n",
        "\n",
        "bool1 = sayi1==sayi2 # eşitse True değilse False\n",
        "bool2 = sayi1!=sayi2 # eşitse False değilse True\n",
        "bool3 = sayi1>=sayi2 # sayi1 sayi2 den büyük veya eşitse True\n",
        "bool4 = sayi1<=sayi2 # sayi1 sayi2 den küçük veya eşitse True\n",
        "print(bool1,bool2,bool3,bool4)"
      ],
      "execution_count": null,
      "outputs": []
    },
    {
      "cell_type": "code",
      "metadata": {
        "id": "I2-JurqQT5aB"
      },
      "source": [
        "isim0=\"Ali\"\n",
        "isim1=\"Veli\"\n",
        "isim2=\"ali\"\n",
        "\n",
        "bool5= isim0==isim1\n",
        "bool6= isim0==isim2\n",
        "bool5,bool6"
      ],
      "execution_count": null,
      "outputs": []
    },
    {
      "cell_type": "code",
      "metadata": {
        "id": "6vsSsJlYT6gP"
      },
      "source": [
        "sayi3=\"5\"\n",
        "sayi4=5\n",
        "bool7= sayi3==sayi4\n",
        "bool7"
      ],
      "execution_count": null,
      "outputs": []
    },
    {
      "cell_type": "markdown",
      "metadata": {
        "id": "5N1GqbZlT8AP"
      },
      "source": [
        "### Mantıksal Operatörler"
      ]
    },
    {
      "cell_type": "markdown",
      "metadata": {
        "id": "1rL5htDWUBYx"
      },
      "source": [
        "\n",
        "#### AND\n",
        "\n",
        "00=0\n",
        "\n",
        "01=0\n",
        "\n",
        "10=0\n",
        "\n",
        "11=1\n"
      ]
    },
    {
      "cell_type": "markdown",
      "metadata": {
        "id": "T-hyemMWULIC"
      },
      "source": [
        "#### OR\n",
        "\n",
        "00=0\n",
        "\n",
        "01=1\n",
        "\n",
        "10=1\n",
        "\n",
        "11=1"
      ]
    },
    {
      "cell_type": "code",
      "metadata": {
        "id": "PTlypw6wT-xA"
      },
      "source": [
        "1 and 1"
      ],
      "execution_count": null,
      "outputs": []
    },
    {
      "cell_type": "code",
      "metadata": {
        "id": "0BiUSxROUQr9"
      },
      "source": [
        "1 and 0"
      ],
      "execution_count": null,
      "outputs": []
    },
    {
      "cell_type": "code",
      "metadata": {
        "id": "gJTLHfakUR-J"
      },
      "source": [
        "1 or 0"
      ],
      "execution_count": null,
      "outputs": []
    },
    {
      "cell_type": "code",
      "metadata": {
        "id": "dwaLrTGIUSml"
      },
      "source": [
        "a=5\n",
        "a>0 and a<10"
      ],
      "execution_count": null,
      "outputs": []
    },
    {
      "cell_type": "code",
      "metadata": {
        "id": "AQHLtuvKUUBx"
      },
      "source": [
        "a=5\n",
        "a>0 and a%2==0"
      ],
      "execution_count": null,
      "outputs": []
    },
    {
      "cell_type": "code",
      "metadata": {
        "id": "GpVBREtoUUFc"
      },
      "source": [
        "a=5\n",
        "a>0 or a%2==0"
      ],
      "execution_count": null,
      "outputs": []
    },
    {
      "cell_type": "markdown",
      "metadata": {
        "id": "EMlZGMGvUYqy"
      },
      "source": [
        "## Veri Girişi (input)"
      ]
    },
    {
      "cell_type": "markdown",
      "metadata": {
        "id": "ab-p9kKMUjN9"
      },
      "source": [
        "Pythonda veri girişi için birçok yöntem vardır. Bunlar ses kamera verisi olacağı gibi terminale yazacağımız bir yazı da olabilir. Terminalde veri almak için de input fonksiyonunu kullanırız"
      ]
    },
    {
      "cell_type": "code",
      "metadata": {
        "id": "GPXVaBmEUUJh"
      },
      "source": [
        "isim = input(\"İsminiz nedir? \")\n",
        "print(\"merhaba\", isim)"
      ],
      "execution_count": null,
      "outputs": []
    },
    {
      "cell_type": "code",
      "metadata": {
        "id": "IB6NcXhrUlb5"
      },
      "source": [
        "sayi = input(\"sayı giriniz? \")\n",
        "type(sayi)"
      ],
      "execution_count": null,
      "outputs": []
    },
    {
      "cell_type": "code",
      "metadata": {
        "id": "Kxr_N_jSUmxP"
      },
      "source": [
        "sayi = input(\"sayı giriniz? \")\n",
        "sayi2 = input(\"2. sayıyı giriniz? \")\n",
        "sayi + sayi2"
      ],
      "execution_count": null,
      "outputs": []
    },
    {
      "cell_type": "markdown",
      "metadata": {
        "id": "LESLchtBUpem"
      },
      "source": [
        "## Tip Dönüşümleri"
      ]
    },
    {
      "cell_type": "markdown",
      "metadata": {
        "id": "7D10p1LtU6__"
      },
      "source": [
        "Bazen veri tiplerini birbirlerine çevirmemiz gerekir. En basit örneğiyle input ile aldığımız veri string tipindedir onu tamsayı olarak toplama çıkarma gibi işlemlere tabi tutabilmek için int tipine çevirmemiz gerekir"
      ]
    },
    {
      "cell_type": "code",
      "metadata": {
        "id": "p8gYHK2MUqdx"
      },
      "source": [
        "sayi = \"5\"\n",
        "print(type(sayi))\n",
        "print(type( int(sayi) ))"
      ],
      "execution_count": null,
      "outputs": []
    },
    {
      "cell_type": "code",
      "metadata": {
        "id": "dNaV3a7yU9-P"
      },
      "source": [
        "str(5)"
      ],
      "execution_count": null,
      "outputs": []
    },
    {
      "cell_type": "code",
      "metadata": {
        "id": "_j0SkLAmU-CC"
      },
      "source": [
        "int(\"5\")"
      ],
      "execution_count": null,
      "outputs": []
    },
    {
      "cell_type": "code",
      "metadata": {
        "id": "gJKSmy39U-Fu"
      },
      "source": [
        "sayi1 = input(\"1. sayıyı giriniz? \")\n",
        "sayi2 = input(\"2. sayıyı giriniz? \")\n",
        "sayi1 + sayi2"
      ],
      "execution_count": null,
      "outputs": []
    },
    {
      "cell_type": "code",
      "metadata": {
        "id": "3_IjtVLGVBBK"
      },
      "source": [
        "sayi1 = int(input(\"1. sayıyı giriniz? \"))\n",
        "sayi2 = input(\"2. sayıyı giriniz? \")\n",
        "sayi1 + int(sayi2)"
      ],
      "execution_count": null,
      "outputs": []
    },
    {
      "cell_type": "markdown",
      "metadata": {
        "id": "_NuAIfx9VDUG"
      },
      "source": [
        "# Diziler"
      ]
    },
    {
      "cell_type": "code",
      "metadata": {
        "id": "oLdo2dFkVGKv"
      },
      "source": [
        ""
      ],
      "execution_count": null,
      "outputs": []
    }
  ]
}