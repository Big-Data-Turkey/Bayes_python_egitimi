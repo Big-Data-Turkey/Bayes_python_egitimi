{
  "nbformat": 4,
  "nbformat_minor": 0,
  "metadata": {
    "colab": {
      "name": "Python_v1.ipynb",
      "provenance": [],
      "toc_visible": true,
      "authorship_tag": "ABX9TyMav46AcFRkmKqR6pkvm8iQ",
      "include_colab_link": true
    },
    "kernelspec": {
      "name": "python3",
      "display_name": "Python 3"
    },
    "language_info": {
      "name": "python"
    }
  },
  "cells": [
    {
      "cell_type": "markdown",
      "metadata": {
        "id": "view-in-github",
        "colab_type": "text"
      },
      "source": [
        "<a href=\"https://colab.research.google.com/github/Big-Data-Turkey/Bayes_python_egitimi/blob/master/Python_v1.ipynb\" target=\"_parent\"><img src=\"https://colab.research.google.com/assets/colab-badge.svg\" alt=\"Open In Colab\"/></a>"
      ]
    },
    {
      "cell_type": "markdown",
      "metadata": {
        "id": "-czQM3KWAW5A"
      },
      "source": [
        "## Programlama Nedir ?\n",
        "\n",
        "Programlama kısaca, bilgisayara ne yapması gerektiğini söylemektir. Bilgisayar tek başına anlam ifade etmez, ona ne yapması gerektiğini, nasıl davranması gerektiğini siz gösterirsiniz.  Bilgisayar diyince aklınıza sadece Dizüstü Masaüstü bilgisayarlar gelmesin. Hesap Makinesi bile bir bilgisayardır.\n",
        "\n",
        "Programlama yaparken yazdığınız sözcüklerin (kodların) bütününe de yazılım denir. Yazılım kullanıcı ile bilgisayar arasında iletişim kurmayı sağlar.\n",
        " \n",
        "## Programlama Nasıl Yapılır ?\n",
        "\n",
        "Programlama geçmişten günümüze sürekli geliştirilerek gelmiştir ve hala da gelişmektedir. Her geçen gün işlerimizi kolaylaştıran diller, kütüphaneler ortaya çıkıyor.  Programlama yapabilmek, program yazabilmek için Bazı programlama dillerine ihtiyaç duyarız.\n",
        "Programlama Dilleri\n",
        "\n",
        "Programlama dilleri, program yazarken kullandığımız söz dizimleridir. Farklı programlama dilleri vardır, geçmişten günümüze sürekli farklı programlama dilleri geliştirilmiştir.\n",
        "Yani programı, herhangi bir programlama diliyle yazabilirsiniz. Mantık olarak hepsi aynıdır, yazımlarında farklılıklar vardır o kadar. Örnek olarak: csharp, visual basic, java, c, c++, python.. programlama dillerinden sadece bazıları.. Daha çok sayıda programlama dili vardır ve hepsi ihtiyaçlara göre farklı alanlarda kullanılır. Örneğin bazıları yazarken kolaylık sağlar bazıları hızda kolaylık sağlar vs.. Tüm hepsini bilmemize gerek yok. Sadece bir tanesini bilseniz yeterli.\n"
      ]
    },
    {
      "cell_type": "markdown",
      "metadata": {
        "id": "VxkmFFL0AlD6"
      },
      "source": [
        "## Python Nedir Neler Yapılabilir?\n",
        "\n",
        "Python son zamanların en popüler programlama dillerinden biridir. Python programlama dili makine öğrenimi, sistem otomasyonları, web ve API’lerini geliştirme, bot sistemleri, yapay zeka, veri bilimi ve veri işleme gibi konular için temel yapıdadır.\n",
        "\n",
        "makine öğrenimi veya veri analizi denildiğinde ilk akla gelen programlama dillerinden biri olmayı başarmış ve gün geçtikçe ününü daha da büyütmeye devam etmiştir.\n",
        "\n",
        "## Python Programlama Dilinin Avantajları\n",
        "\n",
        "Python Programlama Dilinin Kullanımı ve Öğrenimi Çok Basit.\n",
        "\n",
        "Python syntaxı (söz dizimi) hem rahat okunabilir hem de ileriyi hedefleyen bir yapıdadır. Python programlama dilinin öğrenimi, kararlı yapısı sayesinde oldukça basittir.\n",
        "\n",
        "Yazılıma yeni başlayanlara en ideal ve basit dil olarak görüldüğü için Python programlama dili önerilir. Sadede gelecek olursak, Python programlama dili yazılıma yeni başlayan herkes için hızlı ve basit bir şekilde ilerlemeyi sağlar. Diğer programlama dillerine göre söz konusu basitlik olduğunda Python diğer programlama dillerine nazaran iki adım daha öndedir.\n",
        "\n",
        "Python,  yazılımcılar arasında oldukça popüler ve oldukça yaygın bir programlama dilidir. Github projelerinin çoğunda Python yazılım dili kullanılmıştır. Stackoverflow ve Github gibi programcıların genel olarak gezdikleri programlama örnek sıralama sistemlerinde, Python dili en üst sıralarda yer almaktadır.\n",
        "\n",
        "Kullanım alanlarını anlatacak olursak, en küçük işletim sistemlerinden en büyük işletim sistemlerine kadar neredeyse bütün OS tarafından desteklenir. İnternette bulunan birçok kütüphane ve API servislerinin kesinlikle Python tabanlı bindings veya wrappers’ları bulunmaktadır. Bunun sayesinde Python, servislerle serbest bir şekilde arayüz oluşturur veya kütüphaneler doğrudan kullanılır.\n",
        "\n",
        "## Makine Öğreniminde Python’un Yeri ve Veri Bilimi\n",
        "\n",
        "Karmaşık veri analizleri günümüz IT için önemli bir konu haline gelmiştir. Python bu durumlarda en kullanışlı programlama dilidir. Python kütüphanelerinin çoğu veri bilimi ve makine öğrenimi konularında gayet kullanışlıdır. Bu alandaki kütüphanelerde bulunan yüksek kaliteli komutlar, makine öğrenimi kütüphanelerinin ve diğer algoritma kütüphanelerinin sürekli gelişmesinde büyük katkı sağlamıştır.\n"
      ]
    },
    {
      "cell_type": "markdown",
      "metadata": {
        "id": "hNRIM0tGApaW"
      },
      "source": [
        "## Çalışma Ortamları\n",
        "\n",
        "- python(resmi python ortamı)\n",
        "- conda\n",
        "- google colab\n"
      ]
    },
    {
      "cell_type": "markdown",
      "metadata": {
        "id": "Yx5o4hoEAp9q"
      },
      "source": [
        ""
      ]
    }
  ]
}